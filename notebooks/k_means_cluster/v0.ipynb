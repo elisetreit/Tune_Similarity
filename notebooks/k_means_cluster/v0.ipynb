{
 "cells": [
  {
   "cell_type": "markdown",
   "id": "cd073fde",
   "metadata": {},
   "source": [
    "### This is the first draft, just going to tokenize to notes, and then try clustering"
   ]
  },
  {
   "cell_type": "code",
   "execution_count": 1,
   "id": "e5391069",
   "metadata": {},
   "outputs": [],
   "source": [
    "# import cell\n",
    "import pandas as pd\n",
    "from music21 import converter, key, pitch, interval, note\n",
    "import re\n",
    "from abctool import abctool"
   ]
  },
  {
   "cell_type": "code",
   "execution_count": 2,
   "id": "a60cfa67",
   "metadata": {},
   "outputs": [
    {
     "data": {
      "text/html": [
       "<div>\n",
       "<style scoped>\n",
       "    .dataframe tbody tr th:only-of-type {\n",
       "        vertical-align: middle;\n",
       "    }\n",
       "\n",
       "    .dataframe tbody tr th {\n",
       "        vertical-align: top;\n",
       "    }\n",
       "\n",
       "    .dataframe thead th {\n",
       "        text-align: right;\n",
       "    }\n",
       "</style>\n",
       "<table border=\"1\" class=\"dataframe\">\n",
       "  <thead>\n",
       "    <tr style=\"text-align: right;\">\n",
       "      <th></th>\n",
       "      <th>tune_id</th>\n",
       "      <th>setting_id</th>\n",
       "      <th>name</th>\n",
       "      <th>type</th>\n",
       "      <th>meter</th>\n",
       "      <th>mode</th>\n",
       "      <th>abc</th>\n",
       "      <th>date</th>\n",
       "      <th>username</th>\n",
       "    </tr>\n",
       "  </thead>\n",
       "  <tbody>\n",
       "    <tr>\n",
       "      <th>0</th>\n",
       "      <td>18105</td>\n",
       "      <td>35234</td>\n",
       "      <td>$150 Boot, The</td>\n",
       "      <td>polka</td>\n",
       "      <td>2/4</td>\n",
       "      <td>Gmajor</td>\n",
       "      <td>|:d&gt;g fe|dB AG|E/F/G E/F/G|BA GF|\\nd&gt;g fe|dB A...</td>\n",
       "      <td>2019-07-06 04:39:09</td>\n",
       "      <td>NfldWhistler</td>\n",
       "    </tr>\n",
       "    <tr>\n",
       "      <th>1</th>\n",
       "      <td>11931</td>\n",
       "      <td>11931</td>\n",
       "      <td>'G Iomain Nan Gamhna</td>\n",
       "      <td>slip jig</td>\n",
       "      <td>9/8</td>\n",
       "      <td>Gmajor</td>\n",
       "      <td>dBB B2 A BAG|dBB Bcd efg|dBB B2 A BAG|eAA dBG ...</td>\n",
       "      <td>2012-05-17 07:49:26</td>\n",
       "      <td>iliketurtles</td>\n",
       "    </tr>\n",
       "    <tr>\n",
       "      <th>2</th>\n",
       "      <td>11931</td>\n",
       "      <td>48772</td>\n",
       "      <td>'G Iomain Nan Gamhna</td>\n",
       "      <td>slip jig</td>\n",
       "      <td>9/8</td>\n",
       "      <td>Amixolydian</td>\n",
       "      <td>|:dBB BBA BAG|dBB Bcd efg|dBB BBA BAG|e2A dBG ...</td>\n",
       "      <td>2023-11-25 22:54:00</td>\n",
       "      <td>birlibirdie</td>\n",
       "    </tr>\n",
       "    <tr>\n",
       "      <th>3</th>\n",
       "      <td>15326</td>\n",
       "      <td>28560</td>\n",
       "      <td>'S Ann An Ìle</td>\n",
       "      <td>strathspey</td>\n",
       "      <td>4/4</td>\n",
       "      <td>Gmajor</td>\n",
       "      <td>|:G&gt;A B&gt;G c&gt;A B&gt;G|E&lt;E A&gt;G F&lt;D D2|G&gt;A B&gt;G c&gt;A B...</td>\n",
       "      <td>2016-03-31 15:34:45</td>\n",
       "      <td>danninagh</td>\n",
       "    </tr>\n",
       "    <tr>\n",
       "      <th>4</th>\n",
       "      <td>15326</td>\n",
       "      <td>28582</td>\n",
       "      <td>'S Ann An Ìle</td>\n",
       "      <td>strathspey</td>\n",
       "      <td>4/4</td>\n",
       "      <td>Gmajor</td>\n",
       "      <td>uD2|:{F}v[G,2G2]uB&gt;ud c&gt;A B&gt;G|{D}E2 uA&gt;uG F&lt;D ...</td>\n",
       "      <td>2016-04-03 09:15:08</td>\n",
       "      <td>DonaldK</td>\n",
       "    </tr>\n",
       "  </tbody>\n",
       "</table>\n",
       "</div>"
      ],
      "text/plain": [
       "   tune_id  setting_id                  name        type meter         mode  \\\n",
       "0    18105       35234        $150 Boot, The       polka   2/4       Gmajor   \n",
       "1    11931       11931  'G Iomain Nan Gamhna    slip jig   9/8       Gmajor   \n",
       "2    11931       48772  'G Iomain Nan Gamhna    slip jig   9/8  Amixolydian   \n",
       "3    15326       28560         'S Ann An Ìle  strathspey   4/4       Gmajor   \n",
       "4    15326       28582         'S Ann An Ìle  strathspey   4/4       Gmajor   \n",
       "\n",
       "                                                 abc                 date  \\\n",
       "0  |:d>g fe|dB AG|E/F/G E/F/G|BA GF|\\nd>g fe|dB A...  2019-07-06 04:39:09   \n",
       "1  dBB B2 A BAG|dBB Bcd efg|dBB B2 A BAG|eAA dBG ...  2012-05-17 07:49:26   \n",
       "2  |:dBB BBA BAG|dBB Bcd efg|dBB BBA BAG|e2A dBG ...  2023-11-25 22:54:00   \n",
       "3  |:G>A B>G c>A B>G|E<E A>G F<D D2|G>A B>G c>A B...  2016-03-31 15:34:45   \n",
       "4  uD2|:{F}v[G,2G2]uB>ud c>A B>G|{D}E2 uA>uG F<D ...  2016-04-03 09:15:08   \n",
       "\n",
       "       username  \n",
       "0  NfldWhistler  \n",
       "1  iliketurtles  \n",
       "2   birlibirdie  \n",
       "3     danninagh  \n",
       "4       DonaldK  "
      ]
     },
     "execution_count": 2,
     "metadata": {},
     "output_type": "execute_result"
    }
   ],
   "source": [
    "df = pd.read_csv('/home/devcontainers/git/Tune_Similarity/raw_data/tunes.csv')\n",
    "df.head()"
   ]
  },
  {
   "cell_type": "code",
   "execution_count": 8,
   "id": "f2e12adb",
   "metadata": {},
   "outputs": [],
   "source": [
    "df[\"full_abc\"] = df.apply(\n",
    "    lambda row: f\"\"\"X:{row.setting_id}\n",
    "T:{row[\"name\"]}\n",
    "M:{row.meter}\n",
    "K:{row[\"mode\"]}\n",
    "{row.abc}\n",
    "\"\"\",\n",
    "    axis=1\n",
    ")\n"
   ]
  },
  {
   "cell_type": "code",
   "execution_count": 6,
   "id": "6f003eec",
   "metadata": {},
   "outputs": [],
   "source": [
    "def sanitize_abc(abc_str: str) -> str:\n",
    "    # Remove ornaments like {a}, {gf}, etc.\n",
    "    abc_str = re.sub(r\"\\{[^}]*\\}\", \"\", abc_str)\n",
    "\n",
    "    # Remove slashes that could represent strange tuplets or slashed notes\n",
    "    abc_str = re.sub(r\"(?<![A-Ga-g])/+\", \"/\", abc_str)  # keep note slashes like A/B\n",
    "\n",
    "    # Optionally: remove standalone non-note letters like \"J\", \"X\" that break parsing\n",
    "    abc_str = re.sub(r\"\\b[J-Zj-z]\\b\", \"\", abc_str)  # single-letter tokens that aren’t notes\n",
    "\n",
    "    return abc_str\n",
    "\n",
    "def parse_and_transpose_score(row, target_tonic=\"C\"):\n",
    "\n",
    "    try:\n",
    "        abc = row['full_abc']\n",
    "        mode_str = row['mode']\n",
    "        abc = sanitize_abc(abc)\n",
    "        print(abc)\n",
    "        # Parse mode string like \"Gmajor\" or \"Ddor\"\n",
    "        match = re.match(r\"([A-Ga-g][#b]?)(.*)\", mode_str)\n",
    "        if not match:\n",
    "            raise ValueError(f\"Invalid mode string: {mode_str}\")\n",
    "        tonic_str, mode = match.groups()\n",
    "        tonic = pitch.Pitch(tonic_str.upper())\n",
    "        mode = mode.lower()\n",
    "        \n",
    "        # Transpose to target tonic (e.g. \"C\" for major, \"D\" for dorian)\n",
    "        score = converter.parse(abc, format='abc')\n",
    "        interval_to_target = interval.Interval(tonic, pitch.Pitch(target_tonic))\n",
    "        transposed = score.transpose(interval_to_target)\n",
    "\n",
    "        return transposed\n",
    "\n",
    "    except Exception as e:\n",
    "        print(f\"Failed to parse/transpose row {row.name}: {e}\")\n",
    "        return None\n"
   ]
  },
  {
   "cell_type": "code",
   "execution_count": 21,
   "id": "5d4e6569",
   "metadata": {},
   "outputs": [
    {
     "name": "stdout",
     "output_type": "stream",
     "text": [
      "X:35234\n",
      "T:$150 Boot, The\n",
      "M:2/4\n",
      "K:Gmajor\n",
      "|:d>g fe|dB AG|E/F/G E/F/G|BA GF|\n",
      "d>g fe|dB AG|E/F/G E/F/G|BA G2:|\n",
      "|:e>f ga|ba gf|e/f/g e/f/g|d/c/B/A/ BA|\n",
      "e>f ga|ba gf|e/f/g e/f/g|ag g2:|\n",
      "\n"
     ]
    }
   ],
   "source": [
    "from abctool import abctune\n",
    "\n",
    "abc_str = df.loc[0, \"full_abc\"]\n",
    "tune = abctune(abc_str)\n",
    "\n",
    "print(abc_str)"
   ]
  },
  {
   "cell_type": "code",
   "execution_count": 22,
   "id": "a4146015",
   "metadata": {},
   "outputs": [
    {
     "name": "stdout",
     "output_type": "stream",
     "text": [
      "X:35234\n",
      "T:$150 Boot, The\n",
      "M:2/4\n",
      "K:Abmajor\n",
      "|:e>a gf|ec BA|F/G/A F/G/A|cB AG|\n",
      "e>a gf|ec BA|F/G/A F/G/A|cB A2:|\n",
      "|:f>g ab|c'b ag|f/g/a f/g/a|e/d/c/B/ cB|\n",
      "f>g ab|c'b ag|f/g/a f/g/a|ba a2:|\n"
     ]
    }
   ],
   "source": [
    "tune.transpose(1)\n",
    "\n",
    "print(tune.getAbc())"
   ]
  },
  {
   "cell_type": "code",
   "execution_count": 17,
   "id": "39ea3fdb",
   "metadata": {},
   "outputs": [
    {
     "name": "stdout",
     "output_type": "stream",
     "text": [
      "G\n"
     ]
    }
   ],
   "source": [
    "mode = df.loc[0, \"mode\"]\n",
    "match = re.match(r\"([A-Ga-g][#b]?)(.*)\", mode)\n",
    "if not match:\n",
    "    raise ValueError(f\"Invalid mode string: {mode}\")\n",
    "tonic_str, mode = match.groups()\n",
    "print(tonic_str)"
   ]
  },
  {
   "cell_type": "code",
   "execution_count": 23,
   "id": "5fdb9e2a",
   "metadata": {},
   "outputs": [
    {
     "data": {
      "text/plain": [
       "mode\n",
       "Gmajor         13307\n",
       "Dmajor         13036\n",
       "Amajor          3585\n",
       "Adorian         3014\n",
       "Eminor          2832\n",
       "Edorian         2379\n",
       "Bminor          1977\n",
       "Amixolydian     1677\n",
       "Aminor          1615\n",
       "Dmixolydian     1477\n",
       "Cmajor          1212\n",
       "Fmajor           856\n",
       "Gminor           728\n",
       "Dminor           721\n",
       "Ddorian          587\n",
       "Gdorian          424\n",
       "Emajor           313\n",
       "Gmixolydian      201\n",
       "Bdorian          156\n",
       "Cdorian          143\n",
       "Fdorian          116\n",
       "Emixolydian       86\n",
       "Bmixolydian       33\n",
       "Name: count, dtype: int64"
      ]
     },
     "execution_count": 23,
     "metadata": {},
     "output_type": "execute_result"
    }
   ],
   "source": [
    "df[\"mode\"].value_counts()"
   ]
  },
  {
   "cell_type": "code",
   "execution_count": null,
   "id": "b47d9ca7",
   "metadata": {},
   "outputs": [],
   "source": [
    "def get_transpose_distance(m):\n",
    "    # m - mode of the tune\n",
    "    # returns distance to transpose so that tonic is C\n",
    "    # proper way to do this would be to do regex to match any # or b, but we don't have those keys in the dataset\n",
    "    tonic = m[0]\n",
    "    # again, being lazy\n",
    "    distance = {\n",
    "        \"A\" : 3,\n",
    "        \"B\" : 1,\n",
    "        \"C\" : 0,\n",
    "        \"D\" : -2,\n",
    "        \"E\" : -4,\n",
    "        \"F\" : -5,\n",
    "        \"G\" : -7\n",
    "    }\n",
    "    return distance[tonic]"
   ]
  },
  {
   "cell_type": "code",
   "execution_count": null,
   "id": "cd58bfc3",
   "metadata": {},
   "outputs": [
    {
     "ename": "AttributeError",
     "evalue": "module 'string' has no attribute 'lower'",
     "output_type": "error",
     "traceback": [
      "\u001b[0;31m---------------------------------------------------------------------------\u001b[0m",
      "\u001b[0;31mAttributeError\u001b[0m                            Traceback (most recent call last)",
      "Cell \u001b[0;32mIn[27], line 12\u001b[0m\n\u001b[1;32m      8\u001b[0m     tune\u001b[38;5;241m.\u001b[39mtranspose(d)\n\u001b[1;32m      9\u001b[0m     \u001b[38;5;28;01mreturn\u001b[39;00m tune\u001b[38;5;241m.\u001b[39mgetAbc()\n\u001b[0;32m---> 12\u001b[0m df[\u001b[38;5;124m\"\u001b[39m\u001b[38;5;124mtransposed_abd\u001b[39m\u001b[38;5;124m\"\u001b[39m] \u001b[38;5;241m=\u001b[39m \u001b[43mdf\u001b[49m\u001b[38;5;241;43m.\u001b[39;49m\u001b[43mapply\u001b[49m\u001b[43m(\u001b[49m\u001b[43mtranspose_row\u001b[49m\u001b[43m,\u001b[49m\u001b[43m \u001b[49m\u001b[43maxis\u001b[49m\u001b[43m \u001b[49m\u001b[38;5;241;43m=\u001b[39;49m\u001b[43m \u001b[49m\u001b[38;5;241;43m1\u001b[39;49m\u001b[43m)\u001b[49m\n",
      "File \u001b[0;32m~/miniconda3/envs/tf-gpu/lib/python3.10/site-packages/pandas/core/frame.py:10374\u001b[0m, in \u001b[0;36mDataFrame.apply\u001b[0;34m(self, func, axis, raw, result_type, args, by_row, engine, engine_kwargs, **kwargs)\u001b[0m\n\u001b[1;32m  10360\u001b[0m \u001b[38;5;28;01mfrom\u001b[39;00m\u001b[38;5;250m \u001b[39m\u001b[38;5;21;01mpandas\u001b[39;00m\u001b[38;5;21;01m.\u001b[39;00m\u001b[38;5;21;01mcore\u001b[39;00m\u001b[38;5;21;01m.\u001b[39;00m\u001b[38;5;21;01mapply\u001b[39;00m\u001b[38;5;250m \u001b[39m\u001b[38;5;28;01mimport\u001b[39;00m frame_apply\n\u001b[1;32m  10362\u001b[0m op \u001b[38;5;241m=\u001b[39m frame_apply(\n\u001b[1;32m  10363\u001b[0m     \u001b[38;5;28mself\u001b[39m,\n\u001b[1;32m  10364\u001b[0m     func\u001b[38;5;241m=\u001b[39mfunc,\n\u001b[0;32m   (...)\u001b[0m\n\u001b[1;32m  10372\u001b[0m     kwargs\u001b[38;5;241m=\u001b[39mkwargs,\n\u001b[1;32m  10373\u001b[0m )\n\u001b[0;32m> 10374\u001b[0m \u001b[38;5;28;01mreturn\u001b[39;00m \u001b[43mop\u001b[49m\u001b[38;5;241;43m.\u001b[39;49m\u001b[43mapply\u001b[49m\u001b[43m(\u001b[49m\u001b[43m)\u001b[49m\u001b[38;5;241m.\u001b[39m__finalize__(\u001b[38;5;28mself\u001b[39m, method\u001b[38;5;241m=\u001b[39m\u001b[38;5;124m\"\u001b[39m\u001b[38;5;124mapply\u001b[39m\u001b[38;5;124m\"\u001b[39m)\n",
      "File \u001b[0;32m~/miniconda3/envs/tf-gpu/lib/python3.10/site-packages/pandas/core/apply.py:916\u001b[0m, in \u001b[0;36mFrameApply.apply\u001b[0;34m(self)\u001b[0m\n\u001b[1;32m    913\u001b[0m \u001b[38;5;28;01melif\u001b[39;00m \u001b[38;5;28mself\u001b[39m\u001b[38;5;241m.\u001b[39mraw:\n\u001b[1;32m    914\u001b[0m     \u001b[38;5;28;01mreturn\u001b[39;00m \u001b[38;5;28mself\u001b[39m\u001b[38;5;241m.\u001b[39mapply_raw(engine\u001b[38;5;241m=\u001b[39m\u001b[38;5;28mself\u001b[39m\u001b[38;5;241m.\u001b[39mengine, engine_kwargs\u001b[38;5;241m=\u001b[39m\u001b[38;5;28mself\u001b[39m\u001b[38;5;241m.\u001b[39mengine_kwargs)\n\u001b[0;32m--> 916\u001b[0m \u001b[38;5;28;01mreturn\u001b[39;00m \u001b[38;5;28;43mself\u001b[39;49m\u001b[38;5;241;43m.\u001b[39;49m\u001b[43mapply_standard\u001b[49m\u001b[43m(\u001b[49m\u001b[43m)\u001b[49m\n",
      "File \u001b[0;32m~/miniconda3/envs/tf-gpu/lib/python3.10/site-packages/pandas/core/apply.py:1063\u001b[0m, in \u001b[0;36mFrameApply.apply_standard\u001b[0;34m(self)\u001b[0m\n\u001b[1;32m   1061\u001b[0m \u001b[38;5;28;01mdef\u001b[39;00m\u001b[38;5;250m \u001b[39m\u001b[38;5;21mapply_standard\u001b[39m(\u001b[38;5;28mself\u001b[39m):\n\u001b[1;32m   1062\u001b[0m     \u001b[38;5;28;01mif\u001b[39;00m \u001b[38;5;28mself\u001b[39m\u001b[38;5;241m.\u001b[39mengine \u001b[38;5;241m==\u001b[39m \u001b[38;5;124m\"\u001b[39m\u001b[38;5;124mpython\u001b[39m\u001b[38;5;124m\"\u001b[39m:\n\u001b[0;32m-> 1063\u001b[0m         results, res_index \u001b[38;5;241m=\u001b[39m \u001b[38;5;28;43mself\u001b[39;49m\u001b[38;5;241;43m.\u001b[39;49m\u001b[43mapply_series_generator\u001b[49m\u001b[43m(\u001b[49m\u001b[43m)\u001b[49m\n\u001b[1;32m   1064\u001b[0m     \u001b[38;5;28;01melse\u001b[39;00m:\n\u001b[1;32m   1065\u001b[0m         results, res_index \u001b[38;5;241m=\u001b[39m \u001b[38;5;28mself\u001b[39m\u001b[38;5;241m.\u001b[39mapply_series_numba()\n",
      "File \u001b[0;32m~/miniconda3/envs/tf-gpu/lib/python3.10/site-packages/pandas/core/apply.py:1081\u001b[0m, in \u001b[0;36mFrameApply.apply_series_generator\u001b[0;34m(self)\u001b[0m\n\u001b[1;32m   1078\u001b[0m \u001b[38;5;28;01mwith\u001b[39;00m option_context(\u001b[38;5;124m\"\u001b[39m\u001b[38;5;124mmode.chained_assignment\u001b[39m\u001b[38;5;124m\"\u001b[39m, \u001b[38;5;28;01mNone\u001b[39;00m):\n\u001b[1;32m   1079\u001b[0m     \u001b[38;5;28;01mfor\u001b[39;00m i, v \u001b[38;5;129;01min\u001b[39;00m \u001b[38;5;28menumerate\u001b[39m(series_gen):\n\u001b[1;32m   1080\u001b[0m         \u001b[38;5;66;03m# ignore SettingWithCopy here in case the user mutates\u001b[39;00m\n\u001b[0;32m-> 1081\u001b[0m         results[i] \u001b[38;5;241m=\u001b[39m \u001b[38;5;28;43mself\u001b[39;49m\u001b[38;5;241;43m.\u001b[39;49m\u001b[43mfunc\u001b[49m\u001b[43m(\u001b[49m\u001b[43mv\u001b[49m\u001b[43m,\u001b[49m\u001b[43m \u001b[49m\u001b[38;5;241;43m*\u001b[39;49m\u001b[38;5;28;43mself\u001b[39;49m\u001b[38;5;241;43m.\u001b[39;49m\u001b[43margs\u001b[49m\u001b[43m,\u001b[49m\u001b[43m \u001b[49m\u001b[38;5;241;43m*\u001b[39;49m\u001b[38;5;241;43m*\u001b[39;49m\u001b[38;5;28;43mself\u001b[39;49m\u001b[38;5;241;43m.\u001b[39;49m\u001b[43mkwargs\u001b[49m\u001b[43m)\u001b[49m\n\u001b[1;32m   1082\u001b[0m         \u001b[38;5;28;01mif\u001b[39;00m \u001b[38;5;28misinstance\u001b[39m(results[i], ABCSeries):\n\u001b[1;32m   1083\u001b[0m             \u001b[38;5;66;03m# If we have a view on v, we need to make a copy because\u001b[39;00m\n\u001b[1;32m   1084\u001b[0m             \u001b[38;5;66;03m#  series_generator will swap out the underlying data\u001b[39;00m\n\u001b[1;32m   1085\u001b[0m             results[i] \u001b[38;5;241m=\u001b[39m results[i]\u001b[38;5;241m.\u001b[39mcopy(deep\u001b[38;5;241m=\u001b[39m\u001b[38;5;28;01mFalse\u001b[39;00m)\n",
      "Cell \u001b[0;32mIn[27], line 8\u001b[0m, in \u001b[0;36mtranspose_row\u001b[0;34m(row)\u001b[0m\n\u001b[1;32m      6\u001b[0m tune \u001b[38;5;241m=\u001b[39m abctune(abc)\n\u001b[1;32m      7\u001b[0m d \u001b[38;5;241m=\u001b[39m get_transpose_distance(m)\n\u001b[0;32m----> 8\u001b[0m \u001b[43mtune\u001b[49m\u001b[38;5;241;43m.\u001b[39;49m\u001b[43mtranspose\u001b[49m\u001b[43m(\u001b[49m\u001b[43md\u001b[49m\u001b[43m)\u001b[49m\n\u001b[1;32m      9\u001b[0m \u001b[38;5;28;01mreturn\u001b[39;00m tune\u001b[38;5;241m.\u001b[39mgetAbc()\n",
      "File \u001b[0;32m~/git/Tune_Similarity/notebooks/k_means_cluster/abctool.py:1826\u001b[0m, in \u001b[0;36mabctune.transpose\u001b[0;34m(self, transpose)\u001b[0m\n\u001b[1;32m   1824\u001b[0m note_length \u001b[38;5;241m=\u001b[39m note_res\u001b[38;5;241m.\u001b[39mspan()[\u001b[38;5;241m1\u001b[39m]\n\u001b[1;32m   1825\u001b[0m \u001b[38;5;28mnext\u001b[39m \u001b[38;5;241m=\u001b[39m line[:note_length]\n\u001b[0;32m-> 1826\u001b[0m \u001b[38;5;28mnext\u001b[39m \u001b[38;5;241m=\u001b[39m \u001b[38;5;28;43mself\u001b[39;49m\u001b[38;5;241;43m.\u001b[39;49m\u001b[43mnormalize_octave\u001b[49m\u001b[43m(\u001b[49m\u001b[38;5;28;43mnext\u001b[39;49m\u001b[43m)\u001b[49m\n\u001b[1;32m   1827\u001b[0m \u001b[38;5;28;01mif\u001b[39;00m key_type \u001b[38;5;241m==\u001b[39m \u001b[38;5;124m'\u001b[39m\u001b[38;5;124mnone\u001b[39m\u001b[38;5;124m'\u001b[39m:\n\u001b[1;32m   1828\u001b[0m     next_res \u001b[38;5;241m=\u001b[39m white_key_root\u001b[38;5;241m.\u001b[39msearch(\u001b[38;5;28mnext\u001b[39m)\n",
      "File \u001b[0;32m~/git/Tune_Similarity/notebooks/k_means_cluster/abctool.py:2208\u001b[0m, in \u001b[0;36mabctune.normalize_octave\u001b[0;34m(self, note)\u001b[0m\n\u001b[1;32m   2206\u001b[0m     octave_count \u001b[38;5;241m=\u001b[39m octave_count \u001b[38;5;241m+\u001b[39m \u001b[38;5;241m1\u001b[39m\n\u001b[1;32m   2207\u001b[0m \u001b[38;5;28;01melif\u001b[39;00m octave_count \u001b[38;5;241m>\u001b[39m \u001b[38;5;241m0\u001b[39m \u001b[38;5;129;01mand\u001b[39;00m root\u001b[38;5;241m.\u001b[39misupper():\n\u001b[0;32m-> 2208\u001b[0m     root \u001b[38;5;241m=\u001b[39m \u001b[43mstring\u001b[49m\u001b[38;5;241;43m.\u001b[39;49m\u001b[43mlower\u001b[49m(root)\n\u001b[1;32m   2209\u001b[0m     octave_count \u001b[38;5;241m=\u001b[39m octave_count \u001b[38;5;241m-\u001b[39m \u001b[38;5;241m1\u001b[39m\n\u001b[1;32m   2211\u001b[0m \u001b[38;5;28;01mif\u001b[39;00m octave_count \u001b[38;5;241m==\u001b[39m \u001b[38;5;241m0\u001b[39m:\n",
      "\u001b[0;31mAttributeError\u001b[0m: module 'string' has no attribute 'lower'"
     ]
    }
   ],
   "source": [
    "\n",
    "\n",
    "def transpose_row(row):\n",
    "    m = row[\"mode\"]\n",
    "    abc = row[\"full_abc\"]\n",
    "    tune = abctune(abc)\n",
    "    d = get_transpose_distance(m)\n",
    "    tune.transpose(d)\n",
    "    return tune.getAbc()\n",
    "\n",
    "\n",
    "df[\"transposed_abc\"] = df.apply(transpose_row, axis = 1)"
   ]
  },
  {
   "cell_type": "code",
   "execution_count": 38,
   "id": "b6a4dab5",
   "metadata": {},
   "outputs": [
    {
     "data": {
      "text/html": [
       "<div>\n",
       "<style scoped>\n",
       "    .dataframe tbody tr th:only-of-type {\n",
       "        vertical-align: middle;\n",
       "    }\n",
       "\n",
       "    .dataframe tbody tr th {\n",
       "        vertical-align: top;\n",
       "    }\n",
       "\n",
       "    .dataframe thead th {\n",
       "        text-align: right;\n",
       "    }\n",
       "</style>\n",
       "<table border=\"1\" class=\"dataframe\">\n",
       "  <thead>\n",
       "    <tr style=\"text-align: right;\">\n",
       "      <th></th>\n",
       "      <th>tune_id</th>\n",
       "      <th>setting_id</th>\n",
       "      <th>name</th>\n",
       "      <th>type</th>\n",
       "      <th>meter</th>\n",
       "      <th>mode</th>\n",
       "      <th>abc</th>\n",
       "      <th>date</th>\n",
       "      <th>username</th>\n",
       "      <th>full_abc</th>\n",
       "    </tr>\n",
       "  </thead>\n",
       "  <tbody>\n",
       "    <tr>\n",
       "      <th>0</th>\n",
       "      <td>18105</td>\n",
       "      <td>35234</td>\n",
       "      <td>$150 Boot, The</td>\n",
       "      <td>polka</td>\n",
       "      <td>2/4</td>\n",
       "      <td>Gmajor</td>\n",
       "      <td>|:d&gt;g fe|dB AG|E/F/G E/F/G|BA GF|\\nd&gt;g fe|dB A...</td>\n",
       "      <td>2019-07-06 04:39:09</td>\n",
       "      <td>NfldWhistler</td>\n",
       "      <td>X:35234\\nT:$150 Boot, The\\nM:2/4\\nK:Gmajor\\n|:...</td>\n",
       "    </tr>\n",
       "    <tr>\n",
       "      <th>1</th>\n",
       "      <td>11931</td>\n",
       "      <td>11931</td>\n",
       "      <td>'G Iomain Nan Gamhna</td>\n",
       "      <td>slip jig</td>\n",
       "      <td>9/8</td>\n",
       "      <td>Gmajor</td>\n",
       "      <td>dBB B2 A BAG|dBB Bcd efg|dBB B2 A BAG|eAA dBG ...</td>\n",
       "      <td>2012-05-17 07:49:26</td>\n",
       "      <td>iliketurtles</td>\n",
       "      <td>X:11931\\nT:'G Iomain Nan Gamhna\\nM:9/8\\nK:Gmaj...</td>\n",
       "    </tr>\n",
       "    <tr>\n",
       "      <th>2</th>\n",
       "      <td>11931</td>\n",
       "      <td>48772</td>\n",
       "      <td>'G Iomain Nan Gamhna</td>\n",
       "      <td>slip jig</td>\n",
       "      <td>9/8</td>\n",
       "      <td>Amixolydian</td>\n",
       "      <td>|:dBB BBA BAG|dBB Bcd efg|dBB BBA BAG|e2A dBG ...</td>\n",
       "      <td>2023-11-25 22:54:00</td>\n",
       "      <td>birlibirdie</td>\n",
       "      <td>X:48772\\nT:'G Iomain Nan Gamhna\\nM:9/8\\nK:Amix...</td>\n",
       "    </tr>\n",
       "    <tr>\n",
       "      <th>3</th>\n",
       "      <td>15326</td>\n",
       "      <td>28560</td>\n",
       "      <td>'S Ann An Ìle</td>\n",
       "      <td>strathspey</td>\n",
       "      <td>4/4</td>\n",
       "      <td>Gmajor</td>\n",
       "      <td>|:G&gt;A B&gt;G c&gt;A B&gt;G|E&lt;E A&gt;G F&lt;D D2|G&gt;A B&gt;G c&gt;A B...</td>\n",
       "      <td>2016-03-31 15:34:45</td>\n",
       "      <td>danninagh</td>\n",
       "      <td>X:28560\\nT:'S Ann An Ìle\\nM:4/4\\nK:Gmajor\\n|:G...</td>\n",
       "    </tr>\n",
       "    <tr>\n",
       "      <th>4</th>\n",
       "      <td>15326</td>\n",
       "      <td>28582</td>\n",
       "      <td>'S Ann An Ìle</td>\n",
       "      <td>strathspey</td>\n",
       "      <td>4/4</td>\n",
       "      <td>Gmajor</td>\n",
       "      <td>uD2|:{F}v[G,2G2]uB&gt;ud c&gt;A B&gt;G|{D}E2 uA&gt;uG F&lt;D ...</td>\n",
       "      <td>2016-04-03 09:15:08</td>\n",
       "      <td>DonaldK</td>\n",
       "      <td>X:28582\\nT:'S Ann An Ìle\\nM:4/4\\nK:Gmajor\\nuD2...</td>\n",
       "    </tr>\n",
       "  </tbody>\n",
       "</table>\n",
       "</div>"
      ],
      "text/plain": [
       "   tune_id  setting_id                  name        type meter         mode  \\\n",
       "0    18105       35234        $150 Boot, The       polka   2/4       Gmajor   \n",
       "1    11931       11931  'G Iomain Nan Gamhna    slip jig   9/8       Gmajor   \n",
       "2    11931       48772  'G Iomain Nan Gamhna    slip jig   9/8  Amixolydian   \n",
       "3    15326       28560         'S Ann An Ìle  strathspey   4/4       Gmajor   \n",
       "4    15326       28582         'S Ann An Ìle  strathspey   4/4       Gmajor   \n",
       "\n",
       "                                                 abc                 date  \\\n",
       "0  |:d>g fe|dB AG|E/F/G E/F/G|BA GF|\\nd>g fe|dB A...  2019-07-06 04:39:09   \n",
       "1  dBB B2 A BAG|dBB Bcd efg|dBB B2 A BAG|eAA dBG ...  2012-05-17 07:49:26   \n",
       "2  |:dBB BBA BAG|dBB Bcd efg|dBB BBA BAG|e2A dBG ...  2023-11-25 22:54:00   \n",
       "3  |:G>A B>G c>A B>G|E<E A>G F<D D2|G>A B>G c>A B...  2016-03-31 15:34:45   \n",
       "4  uD2|:{F}v[G,2G2]uB>ud c>A B>G|{D}E2 uA>uG F<D ...  2016-04-03 09:15:08   \n",
       "\n",
       "       username                                           full_abc  \n",
       "0  NfldWhistler  X:35234\\nT:$150 Boot, The\\nM:2/4\\nK:Gmajor\\n|:...  \n",
       "1  iliketurtles  X:11931\\nT:'G Iomain Nan Gamhna\\nM:9/8\\nK:Gmaj...  \n",
       "2   birlibirdie  X:48772\\nT:'G Iomain Nan Gamhna\\nM:9/8\\nK:Amix...  \n",
       "3     danninagh  X:28560\\nT:'S Ann An Ìle\\nM:4/4\\nK:Gmajor\\n|:G...  \n",
       "4       DonaldK  X:28582\\nT:'S Ann An Ìle\\nM:4/4\\nK:Gmajor\\nuD2...  "
      ]
     },
     "execution_count": 38,
     "metadata": {},
     "output_type": "execute_result"
    }
   ],
   "source": [
    "df.head()"
   ]
  },
  {
   "cell_type": "code",
   "execution_count": 39,
   "id": "ee2d62fa",
   "metadata": {},
   "outputs": [
    {
     "name": "stdout",
     "output_type": "stream",
     "text": [
      "X:48772\n",
      "T:'G Iomain Nan Gamhna\n",
      "M:9/8\n",
      "K:Amixolydian\n",
      "|:dBB BBA BAG|dBB Bcd efg|dBB BBA BAG|e2A dBG A2A:|\n",
      "BGB fge fed|BGB fge f3|BGB fge fed|e2A ABd e2d|\n",
      "BGB fge fed|BGB fga f2e|def gfe fed|e2A ABd efg||\n",
      "\n",
      "X:48772\n",
      "T:'G Iomain Nan Gamhna\n",
      "M:9/8\n",
      "K:Cmixolydian\n",
      "|:fdd ddc dcB|fdd def gab|fdd ddc dcB|g2c fdB c2c:|\n",
      "dBd abg agf|dBd abg a3|dBd abg agf|g2c cdf g2f|\n",
      "dBd abg agf|dBd abc' a2g|fga bag agf|g2c cdf gab||\n"
     ]
    }
   ],
   "source": [
    "i = 2\n",
    "abc_str = df.loc[i, \"full_abc\"]\n",
    "m = df.loc[i, \"mode\"]\n",
    "tune = abctune(abc_str)\n",
    "print(tune.getAbc())\n",
    "tune.transpose(get_transpose_distance(m))\n",
    "print(tune.getAbc())"
   ]
  },
  {
   "cell_type": "code",
   "execution_count": null,
   "id": "919e1f27",
   "metadata": {},
   "outputs": [],
   "source": [
    "# normalize"
   ]
  },
  {
   "cell_type": "code",
   "execution_count": null,
   "id": "9d7751a9",
   "metadata": {},
   "outputs": [],
   "source": [
    "# normalize"
   ]
  },
  {
   "cell_type": "code",
   "execution_count": null,
   "id": "5df1d580",
   "metadata": {},
   "outputs": [],
   "source": [
    "# cluster"
   ]
  }
 ],
 "metadata": {
  "kernelspec": {
   "display_name": "tf-gpu",
   "language": "python",
   "name": "python3"
  },
  "language_info": {
   "codemirror_mode": {
    "name": "ipython",
    "version": 3
   },
   "file_extension": ".py",
   "mimetype": "text/x-python",
   "name": "python",
   "nbconvert_exporter": "python",
   "pygments_lexer": "ipython3",
   "version": "3.10.16"
  }
 },
 "nbformat": 4,
 "nbformat_minor": 5
}
