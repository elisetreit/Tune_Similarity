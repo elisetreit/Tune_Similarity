{
 "cells": [
  {
   "cell_type": "code",
   "execution_count": 10,
   "metadata": {},
   "outputs": [],
   "source": [
    "import pandas as pd\n",
    "import itertools\n",
    "import random"
   ]
  },
  {
   "cell_type": "code",
   "execution_count": 4,
   "metadata": {},
   "outputs": [],
   "source": [
    "# goal: create a train/test dataset using positive and negative pairs\n",
    "df = pd.read_csv(\"../raw_data/tunes.csv\")"
   ]
  },
  {
   "cell_type": "code",
   "execution_count": null,
   "metadata": {},
   "outputs": [],
   "source": [
    "# Create positive pairs\n",
    "positive_pairs = []\n",
    "for tune_id, group in df.groupby('tune_id'):\n",
    "    abc_list = group[['setting_id', 'abc']].values.tolist()\n",
    "    # create one pair per tune (this seems like a decent enough way to start)\n",
    "    if len(abc_list) > 1:\n",
    "        pair = random.sample(abc_list, 2)\n",
    "        positive_pairs.append((tune_id, tune_id, pair[0][0], pair[1][0], pair[0][1], pair[1][1]))\n"
   ]
  },
  {
   "cell_type": "code",
   "execution_count": null,
   "metadata": {},
   "outputs": [],
   "source": [
    "# Create negative pairs - just the same amount as in the positive set\n",
    "abc_list = df[['tune_id', 'setting_id', 'abc']].values.tolist()\n",
    "negative_pairs = []\n",
    "while len(negative_pairs) < len(positive_pairs):\n",
    "    pair = random.sample(abc_list, 2)\n",
    "    if pair[0][0] != pair[1][0]:\n",
    "        negative_pairs.append((pair[0][0], pair[1][0], pair[0][1], pair[1][1], pair[0][2], pair[1][2]))"
   ]
  },
  {
   "cell_type": "code",
   "execution_count": null,
   "metadata": {},
   "outputs": [],
   "source": [
    "# Create dataframes\n",
    "positive_df = pd.DataFrame(positive_pairs, columns=['tune_a', 'tune_b', 'setting_a', 'setting_b', 'abc_a', 'abc_b'])\n",
    "negative_df = pd.DataFrame(negative_pairs, columns=['tune_a', 'tune_b', 'setting_a', 'setting_b', 'abc_a', 'abc_b'])"
   ]
  },
  {
   "cell_type": "code",
   "execution_count": 28,
   "metadata": {},
   "outputs": [],
   "source": [
    "positive_df.to_csv(\"../raw_data/positive_set.csv\")"
   ]
  },
  {
   "cell_type": "code",
   "execution_count": 29,
   "metadata": {},
   "outputs": [],
   "source": [
    "negative_df.to_csv(\"../raw_data/negative_set.csv\")"
   ]
  },
  {
   "cell_type": "code",
   "execution_count": null,
   "metadata": {},
   "outputs": [],
   "source": []
  }
 ],
 "metadata": {
  "kernelspec": {
   "display_name": ".venv",
   "language": "python",
   "name": "python3"
  },
  "language_info": {
   "codemirror_mode": {
    "name": "ipython",
    "version": 3
   },
   "file_extension": ".py",
   "mimetype": "text/x-python",
   "name": "python",
   "nbconvert_exporter": "python",
   "pygments_lexer": "ipython3",
   "version": "3.13.2"
  }
 },
 "nbformat": 4,
 "nbformat_minor": 2
}
