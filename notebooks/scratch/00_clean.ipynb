{
 "cells": [
  {
   "cell_type": "markdown",
   "id": "27bdecdb",
   "metadata": {},
   "source": [
    "While the dataset is relatively clean, there are still things that have issues, sich as non-valid modes, and  unsupported characters"
   ]
  },
  {
   "cell_type": "code",
   "execution_count": 3,
   "id": "2c709790",
   "metadata": {},
   "outputs": [],
   "source": [
    "import re\n",
    "import pandas as pd"
   ]
  },
  {
   "cell_type": "code",
   "execution_count": 7,
   "id": "bdf2e47b",
   "metadata": {},
   "outputs": [],
   "source": [
    "import re\n",
    "\n",
    "ABC_HEADER_FIELDS = [\"X\", \"T\", \"M\", \"L\", \"K\"]\n",
    "\n",
    "VALID_MODES = {\n",
    "    \"major\", \"minor\", \"dorian\", \"mixolydian\"\n",
    "}\n",
    "\n",
    "def strip_inline_key_changes(abc: str) -> str:\n",
    "    \"\"\"Removes all inline [K:...] key changes from the tune body.\"\"\"\n",
    "    return re.sub(r'\\[K:[^\\]]+\\]', '', abc)\n",
    "\n",
    "\n",
    "def strip_existing_header_key(abc: str) -> str:\n",
    "    \"\"\"Removes any existing top-level K: header.\"\"\"\n",
    "    return re.sub(r'^K:[^\\n]*\\n?', '', abc, flags=re.MULTILINE)\n",
    "\n",
    "\n",
    "def is_valid_key(mode: str) -> bool:\n",
    "    \"\"\"Checks if the given key string is in a supported format like 'Dminor', 'Gmixolydian'.\"\"\"\n",
    "    match = re.match(r'^([A-G][b#]?)(major|minor|dorian|mixolydian)$', mode, re.IGNORECASE)\n",
    "    return match is not None\n",
    "\n",
    "\n",
    "def get_transpose_distance(mode_str: str) -> int:\n",
    "    \"\"\"Returns semitone shift needed to bring the tonic to C.\"\"\"\n",
    "    tonic_match = re.match(r'^([A-G][b#]?)(.*)', mode_str, re.IGNORECASE)\n",
    "    if not tonic_match:\n",
    "        raise ValueError(f\"Cannot parse tonic from mode string: {mode_str}\")\n",
    "    note = tonic_match.group(1).upper()\n",
    "    distance = {\n",
    "        \"C\": 0, \"D\": -2, \"E\": -4, \"F\": -5,\n",
    "        \"G\": -7, \"A\": -9, \"B\": -11\n",
    "    }\n",
    "    return distance.get(note, 0)\n",
    "\n",
    "\n",
    "def sanitize_abc_tokens(abc_str):\n",
    "    \"\"\"\n",
    "    Removes unsupported or broken accidentals and inline key changes.\n",
    "    - Removes ^^, ^=, ==, =, etc.\n",
    "    - Strips any [K:...] inside tune body\n",
    "    \"\"\"\n",
    "    abc_str = re.sub(r'\\^=|==|\\^\\^|=', '', abc_str)\n",
    "    abc_str = re.sub(r'\\[K:[^\\]]+\\]', '', abc_str)\n",
    "    return abc_str\n",
    "\n",
    "\n",
    "def rebuild_header(row: dict) -> str:\n",
    "    \"\"\"\n",
    "    Constructs a standard ABC header using DataFrame row fields.\n",
    "    Expects: 'setting_id', 'name', 'meter', 'mode'\n",
    "    \"\"\"\n",
    "    return f\"\"\"X:{row['setting_id']}\n",
    "T:{row['name']}\n",
    "M:{row['meter']}\n",
    "K:{row['mode']}\n",
    "\"\"\"\n",
    "\n",
    "\n",
    "def clean_abc(row: dict) -> str:\n",
    "    \"\"\"\n",
    "    Full normalization pipeline:\n",
    "    - Strip invalid/malformed accidentals\n",
    "    - Remove existing K: lines (header + inline)\n",
    "    - Rebuild header using trusted metadata\n",
    "    - Return cleaned ABC string\n",
    "    \"\"\"\n",
    "    raw_abc = row['abc']\n",
    "    cleaned_body = sanitize_abc_tokens(strip_inline_key_changes(strip_existing_header_key(raw_abc)))\n",
    "    header = rebuild_header(row)\n",
    "    return header + cleaned_body.strip() + \"\\n\"\n"
   ]
  },
  {
   "cell_type": "code",
   "execution_count": 4,
   "id": "5ed2d54f",
   "metadata": {},
   "outputs": [],
   "source": [
    "df= pd.read_csv('/home/devcontainers/git/Tune_Similarity/raw_data/tunes.csv')"
   ]
  },
  {
   "cell_type": "code",
   "execution_count": 9,
   "id": "3865ef5f",
   "metadata": {},
   "outputs": [],
   "source": [
    "df['full_abc'] = df.apply(clean_abc, axis=1)"
   ]
  },
  {
   "cell_type": "code",
   "execution_count": 12,
   "id": "a049fe55",
   "metadata": {},
   "outputs": [],
   "source": [
    "df.to_csv('data/cleaned_data.csv')"
   ]
  },
  {
   "cell_type": "code",
   "execution_count": null,
   "id": "39d392a3",
   "metadata": {},
   "outputs": [],
   "source": []
  }
 ],
 "metadata": {
  "kernelspec": {
   "display_name": "tf-gpu",
   "language": "python",
   "name": "python3"
  },
  "language_info": {
   "codemirror_mode": {
    "name": "ipython",
    "version": 3
   },
   "file_extension": ".py",
   "mimetype": "text/x-python",
   "name": "python",
   "nbconvert_exporter": "python",
   "pygments_lexer": "ipython3",
   "version": "3.10.16"
  }
 },
 "nbformat": 4,
 "nbformat_minor": 5
}
