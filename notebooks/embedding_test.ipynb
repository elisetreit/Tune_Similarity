{
 "cells": [
  {
   "cell_type": "code",
   "execution_count": 40,
   "metadata": {},
   "outputs": [],
   "source": [
    "# this is just to refresh my mind on using all the huggingface stuff locally\n",
    "import pandas as pd\n",
    "from langchain_huggingface import HuggingFaceEmbeddings\n",
    "\n"
   ]
  },
  {
   "cell_type": "code",
   "execution_count": 41,
   "metadata": {},
   "outputs": [],
   "source": [
    "model_kwargs = {'device': 'cuda:0'}  # specify GPU device\n",
    "encode_kwargs = {'normalize_embeddings': True}\n",
    "embeddings = HuggingFaceEmbeddings(model_name=\"all-MiniLM-L6-v2\", model_kwargs=model_kwargs,\n",
    "                                   encode_kwargs = encode_kwargs)"
   ]
  },
  {
   "cell_type": "code",
   "execution_count": 42,
   "metadata": {},
   "outputs": [],
   "source": [
    "# load up positive set! \n",
    "positive_set = pd.read_csv(\"../raw_data/positive_set.csv\")"
   ]
  },
  {
   "cell_type": "code",
   "execution_count": 43,
   "metadata": {},
   "outputs": [
    {
     "data": {
      "text/html": [
       "<div>\n",
       "<style scoped>\n",
       "    .dataframe tbody tr th:only-of-type {\n",
       "        vertical-align: middle;\n",
       "    }\n",
       "\n",
       "    .dataframe tbody tr th {\n",
       "        vertical-align: top;\n",
       "    }\n",
       "\n",
       "    .dataframe thead th {\n",
       "        text-align: right;\n",
       "    }\n",
       "</style>\n",
       "<table border=\"1\" class=\"dataframe\">\n",
       "  <thead>\n",
       "    <tr style=\"text-align: right;\">\n",
       "      <th></th>\n",
       "      <th>Unnamed: 0</th>\n",
       "      <th>tune_a</th>\n",
       "      <th>tune_b</th>\n",
       "      <th>setting_a</th>\n",
       "      <th>setting_b</th>\n",
       "      <th>abc_a</th>\n",
       "      <th>abc_b</th>\n",
       "    </tr>\n",
       "  </thead>\n",
       "  <tbody>\n",
       "    <tr>\n",
       "      <th>0</th>\n",
       "      <td>0</td>\n",
       "      <td>1</td>\n",
       "      <td>1</td>\n",
       "      <td>22061</td>\n",
       "      <td>31475</td>\n",
       "      <td>ED|\"Em\"EBBA B2 EB|\"Em\"B2 AB dBAG|\"D\"F/E/D AD B...</td>\n",
       "      <td>|:D2|\"Em\"EBBA B2 EB|B2 AB dBAG|\"D\"FDAD BDAD|FD...</td>\n",
       "    </tr>\n",
       "    <tr>\n",
       "      <th>1</th>\n",
       "      <td>1</td>\n",
       "      <td>2</td>\n",
       "      <td>2</td>\n",
       "      <td>29662</td>\n",
       "      <td>48833</td>\n",
       "      <td>dB|A2 A2 A2 A2|AFAB ^D3B|A2FA A2Bd|(3efg fd (3...</td>\n",
       "      <td>|:A2 FA A2dB|A2FA BEE2|1 A2 FA A2Bd|egfd edBd:...</td>\n",
       "    </tr>\n",
       "    <tr>\n",
       "      <th>2</th>\n",
       "      <td>2</td>\n",
       "      <td>3</td>\n",
       "      <td>3</td>\n",
       "      <td>12349</td>\n",
       "      <td>3</td>\n",
       "      <td>B|GE E/E/E GDDB|GE E/E/E B2 AB|GE E/E/E GDDG|E...</td>\n",
       "      <td>BA|G2 BG AFDF|G2Bd c2BA|G2 BG AFDF|GEEG c2BA|\\...</td>\n",
       "    </tr>\n",
       "    <tr>\n",
       "      <th>3</th>\n",
       "      <td>3</td>\n",
       "      <td>4</td>\n",
       "      <td>4</td>\n",
       "      <td>42849</td>\n",
       "      <td>45019</td>\n",
       "      <td>ag|:fa df Ad FA|DF Ad f2 ef|gb eg ce AF|GA BG ...</td>\n",
       "      <td>|:ag|(3fga df AdFA|DFAd (3fgf ef|gbec eBAF|GA ...</td>\n",
       "    </tr>\n",
       "    <tr>\n",
       "      <th>4</th>\n",
       "      <td>4</td>\n",
       "      <td>5</td>\n",
       "      <td>5</td>\n",
       "      <td>34014</td>\n",
       "      <td>25996</td>\n",
       "      <td>|:DED DEG|A2A ABc|BAG AGE|GEA GED|\\r\\nDED DEG|...</td>\n",
       "      <td>|:D3 DEG|A3 ABc|BAG AGE|GEA GED|\\r\\nD3 DEG|A3 ...</td>\n",
       "    </tr>\n",
       "  </tbody>\n",
       "</table>\n",
       "</div>"
      ],
      "text/plain": [
       "   Unnamed: 0  tune_a  tune_b  setting_a  setting_b  \\\n",
       "0           0       1       1      22061      31475   \n",
       "1           1       2       2      29662      48833   \n",
       "2           2       3       3      12349          3   \n",
       "3           3       4       4      42849      45019   \n",
       "4           4       5       5      34014      25996   \n",
       "\n",
       "                                               abc_a  \\\n",
       "0  ED|\"Em\"EBBA B2 EB|\"Em\"B2 AB dBAG|\"D\"F/E/D AD B...   \n",
       "1  dB|A2 A2 A2 A2|AFAB ^D3B|A2FA A2Bd|(3efg fd (3...   \n",
       "2  B|GE E/E/E GDDB|GE E/E/E B2 AB|GE E/E/E GDDG|E...   \n",
       "3  ag|:fa df Ad FA|DF Ad f2 ef|gb eg ce AF|GA BG ...   \n",
       "4  |:DED DEG|A2A ABc|BAG AGE|GEA GED|\\r\\nDED DEG|...   \n",
       "\n",
       "                                               abc_b  \n",
       "0  |:D2|\"Em\"EBBA B2 EB|B2 AB dBAG|\"D\"FDAD BDAD|FD...  \n",
       "1  |:A2 FA A2dB|A2FA BEE2|1 A2 FA A2Bd|egfd edBd:...  \n",
       "2  BA|G2 BG AFDF|G2Bd c2BA|G2 BG AFDF|GEEG c2BA|\\...  \n",
       "3  |:ag|(3fga df AdFA|DFAd (3fgf ef|gbec eBAF|GA ...  \n",
       "4  |:D3 DEG|A3 ABc|BAG AGE|GEA GED|\\r\\nD3 DEG|A3 ...  "
      ]
     },
     "execution_count": 43,
     "metadata": {},
     "output_type": "execute_result"
    }
   ],
   "source": [
    "positive_set.head()"
   ]
  },
  {
   "cell_type": "code",
   "execution_count": 44,
   "metadata": {},
   "outputs": [],
   "source": [
    "positive_set_embedding_a = embeddings.embed_documents(list(positive_set.abc_a))"
   ]
  },
  {
   "cell_type": "code",
   "execution_count": 45,
   "metadata": {},
   "outputs": [
    {
     "data": {
      "text/plain": [
       "9306"
      ]
     },
     "execution_count": 45,
     "metadata": {},
     "output_type": "execute_result"
    }
   ],
   "source": [
    "len(positive_set_embedding_a)"
   ]
  },
  {
   "cell_type": "code",
   "execution_count": 46,
   "metadata": {},
   "outputs": [],
   "source": [
    "positive_set[\"embedding_a\"] = list(positive_set_embedding_a)"
   ]
  },
  {
   "cell_type": "code",
   "execution_count": 47,
   "metadata": {},
   "outputs": [],
   "source": [
    "positive_set_embedding_b = embeddings.embed_documents(list(positive_set.abc_b))"
   ]
  },
  {
   "cell_type": "code",
   "execution_count": 48,
   "metadata": {},
   "outputs": [],
   "source": [
    "positive_set[\"embedding_b\"] = list(positive_set_embedding_b)"
   ]
  },
  {
   "cell_type": "code",
   "execution_count": 49,
   "metadata": {},
   "outputs": [],
   "source": [
    "positive_set.to_csv(\"../processed_data/positive_set.csv\")"
   ]
  },
  {
   "cell_type": "code",
   "execution_count": 50,
   "metadata": {},
   "outputs": [],
   "source": [
    "# now do the same for the negative set\n",
    "negative_set = pd.read_csv(\"../raw_data/negative_set.csv\")\n",
    "negative_set_embedding_a = embeddings.embed_documents(list(negative_set.abc_a))\n",
    "negative_set[\"embedding_a\"] = list(negative_set_embedding_a)\n",
    "negative_set_embedding_b = embeddings.embed_documents(list(negative_set.abc_b))\n",
    "negative_set[\"embedding_b\"] = list(negative_set_embedding_b)\n",
    "negative_set.to_csv(\"../processed_data/negative_set.csv\")"
   ]
  },
  {
   "cell_type": "code",
   "execution_count": null,
   "metadata": {},
   "outputs": [],
   "source": []
  }
 ],
 "metadata": {
  "kernelspec": {
   "display_name": ".venv",
   "language": "python",
   "name": "python3"
  },
  "language_info": {
   "codemirror_mode": {
    "name": "ipython",
    "version": 3
   },
   "file_extension": ".py",
   "mimetype": "text/x-python",
   "name": "python",
   "nbconvert_exporter": "python",
   "pygments_lexer": "ipython3",
   "version": "3.13.2"
  }
 },
 "nbformat": 4,
 "nbformat_minor": 2
}
