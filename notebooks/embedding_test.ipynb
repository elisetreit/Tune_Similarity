{
 "cells": [
  {
   "cell_type": "code",
   "execution_count": 40,
   "metadata": {},
   "outputs": [],
   "source": [
    "# this is just to refresh my mind on using all the huggingface stuff locally\n",
    "import pandas as pd\n",
    "from langchain_huggingface import HuggingFaceEmbeddings\n",
    "\n"
   ]
  },
  {
   "cell_type": "code",
   "execution_count": 41,
   "metadata": {},
   "outputs": [],
   "source": [
    "model_kwargs = {'device': 'cuda:0'}  # specify GPU device\n",
    "encode_kwargs = {'normalize_embeddings': True}\n",
    "embeddings = HuggingFaceEmbeddings(model_name=\"all-MiniLM-L6-v2\", model_kwargs=model_kwargs,\n",
    "                                   encode_kwargs = encode_kwargs)"
   ]
  },
  {
   "cell_type": "code",
   "execution_count": 42,
   "metadata": {},
   "outputs": [],
   "source": [
    "# load up positive set! \n",
    "positive_set = pd.read_csv(\"../raw_data/positive_set.csv\")"
   ]
  },
  {
   "cell_type": "code",
   "execution_count": 43,
   "metadata": {},
   "outputs": [
    {
     "data": {
      "text/html": [
       "<div>\n",
       "<style scoped>\n",
       "    .dataframe tbody tr th:only-of-type {\n",
       "        vertical-align: middle;\n",
       "    }\n",
       "\n",
       "    .dataframe tbody tr th {\n",
       "        vertical-align: top;\n",
       "    }\n",
       "\n",
       "    .dataframe thead th {\n",
       "        text-align: right;\n",
       "    }\n",
       "</style>\n",
       "<table border=\"1\" class=\"dataframe\">\n",
       "  <thead>\n",
       "    <tr style=\"text-align: right;\">\n",
       "      <th></th>\n",
       "      <th>Unnamed: 0</th>\n",
       "      <th>tune_a</th>\n",
       "      <th>tune_b</th>\n",
       "      <th>setting_a</th>\n",
       "      <th>setting_b</th>\n",
       "      <th>abc_a</th>\n",
       "      <th>abc_b</th>\n",
       "    </tr>\n",
       "  </thead>\n",
       "  <tbody>\n",
       "    <tr>\n",
       "      <th>0</th>\n",
       "      <td>0</td>\n",
       "      <td>1</td>\n",
       "      <td>1</td>\n",
       "      <td>22061</td>\n",
       "      <td>31475</td>\n",
       "      <td>ED|\"Em\"EBBA B2 EB|\"Em\"B2 AB dBAG|\"D\"F/E/D AD B...</td>\n",
       "      <td>|:D2|\"Em\"EBBA B2 EB|B2 AB dBAG|\"D\"FDAD BDAD|FD...</td>\n",
       "    </tr>\n",
       "    <tr>\n",
       "      <th>1</th>\n",
       "      <td>1</td>\n",
       "      <td>2</td>\n",
       "      <td>2</td>\n",
       "      <td>29662</td>\n",
       "      <td>48833</td>\n",
       "      <td>dB|A2 A2 A2 A2|AFAB ^D3B|A2FA A2Bd|(3efg fd (3...</td>\n",
       "      <td>|:A2 FA A2dB|A2FA BEE2|1 A2 FA A2Bd|egfd edBd:...</td>\n",
       "    </tr>\n",
       "    <tr>\n",
       "      <th>2</th>\n",
       "      <td>2</td>\n",
       "      <td>3</td>\n",
       "      <td>3</td>\n",
       "      <td>12349</td>\n",
       "      <td>3</td>\n",
       "      <td>B|GE E/E/E GDDB|GE E/E/E B2 AB|GE E/E/E GDDG|E...</td>\n",
       "      <td>BA|G2 BG AFDF|G2Bd c2BA|G2 BG AFDF|GEEG c2BA|\\...</td>\n",
       "    </tr>\n",
       "    <tr>\n",
       "      <th>3</th>\n",
       "      <td>3</td>\n",
       "      <td>4</td>\n",
       "      <td>4</td>\n",
       "      <td>42849</td>\n",
       "      <td>45019</td>\n",
       "      <td>ag|:fa df Ad FA|DF Ad f2 ef|gb eg ce AF|GA BG ...</td>\n",
       "      <td>|:ag|(3fga df AdFA|DFAd (3fgf ef|gbec eBAF|GA ...</td>\n",
       "    </tr>\n",
       "    <tr>\n",
       "      <th>4</th>\n",
       "      <td>4</td>\n",
       "      <td>5</td>\n",
       "      <td>5</td>\n",
       "      <td>34014</td>\n",
       "      <td>25996</td>\n",
       "      <td>|:DED DEG|A2A ABc|BAG AGE|GEA GED|\\r\\nDED DEG|...</td>\n",
       "      <td>|:D3 DEG|A3 ABc|BAG AGE|GEA GED|\\r\\nD3 DEG|A3 ...</td>\n",
       "    </tr>\n",
       "  </tbody>\n",
       "</table>\n",
       "</div>"
      ],
      "text/plain": [
       "   Unnamed: 0  tune_a  tune_b  setting_a  setting_b  \\\n",
       "0           0       1       1      22061      31475   \n",
       "1           1       2       2      29662      48833   \n",
       "2           2       3       3      12349          3   \n",
       "3           3       4       4      42849      45019   \n",
       "4           4       5       5      34014      25996   \n",
       "\n",
       "                                               abc_a  \\\n",
       "0  ED|\"Em\"EBBA B2 EB|\"Em\"B2 AB dBAG|\"D\"F/E/D AD B...   \n",
       "1  dB|A2 A2 A2 A2|AFAB ^D3B|A2FA A2Bd|(3efg fd (3...   \n",
       "2  B|GE E/E/E GDDB|GE E/E/E B2 AB|GE E/E/E GDDG|E...   \n",
       "3  ag|:fa df Ad FA|DF Ad f2 ef|gb eg ce AF|GA BG ...   \n",
       "4  |:DED DEG|A2A ABc|BAG AGE|GEA GED|\\r\\nDED DEG|...   \n",
       "\n",
       "                                               abc_b  \n",
       "0  |:D2|\"Em\"EBBA B2 EB|B2 AB dBAG|\"D\"FDAD BDAD|FD...  \n",
       "1  |:A2 FA A2dB|A2FA BEE2|1 A2 FA A2Bd|egfd edBd:...  \n",
       "2  BA|G2 BG AFDF|G2Bd c2BA|G2 BG AFDF|GEEG c2BA|\\...  \n",
       "3  |:ag|(3fga df AdFA|DFAd (3fgf ef|gbec eBAF|GA ...  \n",
       "4  |:D3 DEG|A3 ABc|BAG AGE|GEA GED|\\r\\nD3 DEG|A3 ...  "
      ]
     },
     "execution_count": 43,
     "metadata": {},
     "output_type": "execute_result"
    }
   ],
   "source": [
    "positive_set.head()"
   ]
  },
  {
   "cell_type": "code",
   "execution_count": 44,
   "metadata": {},
   "outputs": [],
   "source": [
    "positive_set_embedding_a = embeddings.embed_documents(list(positive_set.abc_a))"
   ]
  },
  {
   "cell_type": "code",
   "execution_count": 45,
   "metadata": {},
   "outputs": [
    {
     "data": {
      "text/plain": [
       "9306"
      ]
     },
     "execution_count": 45,
     "metadata": {},
     "output_type": "execute_result"
    }
   ],
   "source": [
    "len(positive_set_embedding_a)"
   ]
  },
  {
   "cell_type": "code",
   "execution_count": 46,
   "metadata": {},
   "outputs": [],
   "source": [
    "positive_set[\"embedding_a\"] = list(positive_set_embedding_a)"
   ]
  },
  {
   "cell_type": "code",
   "execution_count": 47,
   "metadata": {},
   "outputs": [],
   "source": [
    "positive_set_embedding_b = embeddings.embed_documents(list(positive_set.abc_b))"
   ]
  },
  {
   "cell_type": "code",
   "execution_count": 48,
   "metadata": {},
   "outputs": [],
   "source": [
    "positive_set[\"embedding_b\"] = list(positive_set_embedding_b)"
   ]
  },
  {
   "cell_type": "code",
   "execution_count": 49,
   "metadata": {},
   "outputs": [],
   "source": [
    "positive_set.to_csv(\"../processed_data/positive_set.csv\")"
   ]
  },
  {
   "cell_type": "code",
   "execution_count": 50,
   "metadata": {},
   "outputs": [],
   "source": [
    "# now do the same for the negative set\n",
    "negative_set = pd.read_csv(\"../raw_data/negative_set.csv\")\n",
    "negative_set_embedding_a = embeddings.embed_documents(list(negative_set.abc_a))\n",
    "negative_set[\"embedding_a\"] = list(negative_set_embedding_a)\n",
    "negative_set_embedding_b = embeddings.embed_documents(list(negative_set.abc_b))\n",
    "negative_set[\"embedding_b\"] = list(negative_set_embedding_b)\n",
    "negative_set.to_csv(\"../processed_data/negative_set.csv\")"
   ]
  },
  {
   "cell_type": "code",
   "execution_count": 60,
   "metadata": {},
   "outputs": [],
   "source": [
    "import numpy as np\n",
    "from numpy.linalg import norm\n"
   ]
  },
  {
   "cell_type": "code",
   "execution_count": 65,
   "metadata": {},
   "outputs": [],
   "source": [
    "A = negative_set_embedding_a[0]\n",
    "B = negative_set_embedding_b[0]"
   ]
  },
  {
   "cell_type": "code",
   "execution_count": 66,
   "metadata": {},
   "outputs": [
    {
     "data": {
      "text/plain": [
       "np.float64(0.645343715135031)"
      ]
     },
     "execution_count": 66,
     "metadata": {},
     "output_type": "execute_result"
    }
   ],
   "source": [
    "np.dot(A, B) / (norm(A) * norm(B))"
   ]
  },
  {
   "cell_type": "code",
   "execution_count": 69,
   "metadata": {},
   "outputs": [],
   "source": [
    "# positive_set similarity score\n",
    "def cosine_similarity(x,y):\n",
    "    return np.dot(x,y) / (norm(x) * norm(y))\n",
    "\n",
    "positive_set[\"similarity\"] = positive_set.apply(lambda row: cosine_similarity(row[\"embedding_a\"], row[\"embedding_b\"]), axis = 1)\n",
    "negative_set[\"similarity\"] = negative_set.apply(lambda row: cosine_similarity(row[\"embedding_a\"], row[\"embedding_b\"]), axis = 1)"
   ]
  },
  {
   "cell_type": "code",
   "execution_count": 68,
   "metadata": {},
   "outputs": [
    {
     "data": {
      "text/plain": [
       "count    9306.000000\n",
       "mean        0.816034\n",
       "std         0.121615\n",
       "min         0.211253\n",
       "25%         0.732850\n",
       "50%         0.832362\n",
       "75%         0.915044\n",
       "max         1.000000\n",
       "Name: similarity, dtype: float64"
      ]
     },
     "execution_count": 68,
     "metadata": {},
     "output_type": "execute_result"
    }
   ],
   "source": [
    "positive_set.similarity.describe()"
   ]
  },
  {
   "cell_type": "code",
   "execution_count": 70,
   "metadata": {},
   "outputs": [
    {
     "data": {
      "text/plain": [
       "count    9306.000000\n",
       "mean        0.653411\n",
       "std         0.097812\n",
       "min         0.140859\n",
       "25%         0.593914\n",
       "50%         0.663395\n",
       "75%         0.722377\n",
       "max         0.918185\n",
       "Name: similarity, dtype: float64"
      ]
     },
     "execution_count": 70,
     "metadata": {},
     "output_type": "execute_result"
    }
   ],
   "source": [
    "negative_set.similarity.describe()"
   ]
  },
  {
   "cell_type": "code",
   "execution_count": 71,
   "metadata": {},
   "outputs": [
    {
     "data": {
      "text/html": [
       "<div>\n",
       "<style scoped>\n",
       "    .dataframe tbody tr th:only-of-type {\n",
       "        vertical-align: middle;\n",
       "    }\n",
       "\n",
       "    .dataframe tbody tr th {\n",
       "        vertical-align: top;\n",
       "    }\n",
       "\n",
       "    .dataframe thead th {\n",
       "        text-align: right;\n",
       "    }\n",
       "</style>\n",
       "<table border=\"1\" class=\"dataframe\">\n",
       "  <thead>\n",
       "    <tr style=\"text-align: right;\">\n",
       "      <th></th>\n",
       "      <th>Unnamed: 0</th>\n",
       "      <th>tune_a</th>\n",
       "      <th>tune_b</th>\n",
       "      <th>setting_a</th>\n",
       "      <th>setting_b</th>\n",
       "      <th>abc_a</th>\n",
       "      <th>abc_b</th>\n",
       "      <th>embedding_a</th>\n",
       "      <th>embedding_b</th>\n",
       "      <th>similarity</th>\n",
       "    </tr>\n",
       "  </thead>\n",
       "  <tbody>\n",
       "    <tr>\n",
       "      <th>0</th>\n",
       "      <td>0</td>\n",
       "      <td>1</td>\n",
       "      <td>1</td>\n",
       "      <td>22061</td>\n",
       "      <td>31475</td>\n",
       "      <td>ED|\"Em\"EBBA B2 EB|\"Em\"B2 AB dBAG|\"D\"F/E/D AD B...</td>\n",
       "      <td>|:D2|\"Em\"EBBA B2 EB|B2 AB dBAG|\"D\"FDAD BDAD|FD...</td>\n",
       "      <td>[0.010539693757891655, -0.039622943848371506, ...</td>\n",
       "      <td>[0.0156656913459301, -0.0031629279255867004, -...</td>\n",
       "      <td>0.932536</td>\n",
       "    </tr>\n",
       "    <tr>\n",
       "      <th>1</th>\n",
       "      <td>1</td>\n",
       "      <td>2</td>\n",
       "      <td>2</td>\n",
       "      <td>29662</td>\n",
       "      <td>48833</td>\n",
       "      <td>dB|A2 A2 A2 A2|AFAB ^D3B|A2FA A2Bd|(3efg fd (3...</td>\n",
       "      <td>|:A2 FA A2dB|A2FA BEE2|1 A2 FA A2Bd|egfd edBd:...</td>\n",
       "      <td>[-0.05852976068854332, -0.06965914368629456, -...</td>\n",
       "      <td>[-0.02331891469657421, -0.07907111197710037, -...</td>\n",
       "      <td>0.814261</td>\n",
       "    </tr>\n",
       "    <tr>\n",
       "      <th>2</th>\n",
       "      <td>2</td>\n",
       "      <td>3</td>\n",
       "      <td>3</td>\n",
       "      <td>12349</td>\n",
       "      <td>3</td>\n",
       "      <td>B|GE E/E/E GDDB|GE E/E/E B2 AB|GE E/E/E GDDG|E...</td>\n",
       "      <td>BA|G2 BG AFDF|G2Bd c2BA|G2 BG AFDF|GEEG c2BA|\\...</td>\n",
       "      <td>[0.003211917821317911, 0.02360629104077816, -0...</td>\n",
       "      <td>[-0.03601918742060661, -0.02183515951037407, -...</td>\n",
       "      <td>0.836771</td>\n",
       "    </tr>\n",
       "    <tr>\n",
       "      <th>3</th>\n",
       "      <td>3</td>\n",
       "      <td>4</td>\n",
       "      <td>4</td>\n",
       "      <td>42849</td>\n",
       "      <td>45019</td>\n",
       "      <td>ag|:fa df Ad FA|DF Ad f2 ef|gb eg ce AF|GA BG ...</td>\n",
       "      <td>|:ag|(3fga df AdFA|DFAd (3fgf ef|gbec eBAF|GA ...</td>\n",
       "      <td>[-0.08714918792247772, -0.06767382472753525, -...</td>\n",
       "      <td>[-0.08165708184242249, -0.08736856281757355, -...</td>\n",
       "      <td>0.814380</td>\n",
       "    </tr>\n",
       "    <tr>\n",
       "      <th>4</th>\n",
       "      <td>4</td>\n",
       "      <td>5</td>\n",
       "      <td>5</td>\n",
       "      <td>34014</td>\n",
       "      <td>25996</td>\n",
       "      <td>|:DED DEG|A2A ABc|BAG AGE|GEA GED|\\r\\nDED DEG|...</td>\n",
       "      <td>|:D3 DEG|A3 ABc|BAG AGE|GEA GED|\\r\\nD3 DEG|A3 ...</td>\n",
       "      <td>[0.024247556924819946, 0.07042411714792252, -0...</td>\n",
       "      <td>[0.012631156481802464, 0.05618187412619591, -0...</td>\n",
       "      <td>0.960970</td>\n",
       "    </tr>\n",
       "  </tbody>\n",
       "</table>\n",
       "</div>"
      ],
      "text/plain": [
       "   Unnamed: 0  tune_a  tune_b  setting_a  setting_b  \\\n",
       "0           0       1       1      22061      31475   \n",
       "1           1       2       2      29662      48833   \n",
       "2           2       3       3      12349          3   \n",
       "3           3       4       4      42849      45019   \n",
       "4           4       5       5      34014      25996   \n",
       "\n",
       "                                               abc_a  \\\n",
       "0  ED|\"Em\"EBBA B2 EB|\"Em\"B2 AB dBAG|\"D\"F/E/D AD B...   \n",
       "1  dB|A2 A2 A2 A2|AFAB ^D3B|A2FA A2Bd|(3efg fd (3...   \n",
       "2  B|GE E/E/E GDDB|GE E/E/E B2 AB|GE E/E/E GDDG|E...   \n",
       "3  ag|:fa df Ad FA|DF Ad f2 ef|gb eg ce AF|GA BG ...   \n",
       "4  |:DED DEG|A2A ABc|BAG AGE|GEA GED|\\r\\nDED DEG|...   \n",
       "\n",
       "                                               abc_b  \\\n",
       "0  |:D2|\"Em\"EBBA B2 EB|B2 AB dBAG|\"D\"FDAD BDAD|FD...   \n",
       "1  |:A2 FA A2dB|A2FA BEE2|1 A2 FA A2Bd|egfd edBd:...   \n",
       "2  BA|G2 BG AFDF|G2Bd c2BA|G2 BG AFDF|GEEG c2BA|\\...   \n",
       "3  |:ag|(3fga df AdFA|DFAd (3fgf ef|gbec eBAF|GA ...   \n",
       "4  |:D3 DEG|A3 ABc|BAG AGE|GEA GED|\\r\\nD3 DEG|A3 ...   \n",
       "\n",
       "                                         embedding_a  \\\n",
       "0  [0.010539693757891655, -0.039622943848371506, ...   \n",
       "1  [-0.05852976068854332, -0.06965914368629456, -...   \n",
       "2  [0.003211917821317911, 0.02360629104077816, -0...   \n",
       "3  [-0.08714918792247772, -0.06767382472753525, -...   \n",
       "4  [0.024247556924819946, 0.07042411714792252, -0...   \n",
       "\n",
       "                                         embedding_b  similarity  \n",
       "0  [0.0156656913459301, -0.0031629279255867004, -...    0.932536  \n",
       "1  [-0.02331891469657421, -0.07907111197710037, -...    0.814261  \n",
       "2  [-0.03601918742060661, -0.02183515951037407, -...    0.836771  \n",
       "3  [-0.08165708184242249, -0.08736856281757355, -...    0.814380  \n",
       "4  [0.012631156481802464, 0.05618187412619591, -0...    0.960970  "
      ]
     },
     "execution_count": 71,
     "metadata": {},
     "output_type": "execute_result"
    }
   ],
   "source": [
    "positive_set.head()"
   ]
  },
  {
   "cell_type": "code",
   "execution_count": null,
   "metadata": {},
   "outputs": [],
   "source": []
  }
 ],
 "metadata": {
  "kernelspec": {
   "display_name": ".venv",
   "language": "python",
   "name": "python3"
  },
  "language_info": {
   "codemirror_mode": {
    "name": "ipython",
    "version": 3
   },
   "file_extension": ".py",
   "mimetype": "text/x-python",
   "name": "python",
   "nbconvert_exporter": "python",
   "pygments_lexer": "ipython3",
   "version": "3.13.2"
  }
 },
 "nbformat": 4,
 "nbformat_minor": 2
}
