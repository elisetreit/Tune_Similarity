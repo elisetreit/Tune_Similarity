{
 "cells": [
  {
   "cell_type": "code",
   "execution_count": 29,
   "id": "9316f7f7",
   "metadata": {},
   "outputs": [],
   "source": [
    "# Clean Training Pipeline for Tune Embedding Experiments\n",
    "# This notebook template can be copied for each experiment\n",
    "\n",
    "import os\n",
    "import json\n",
    "import pickle\n",
    "import pandas as pd\n",
    "import numpy as np\n",
    "import tensorflow as tf\n",
    "from datetime import datetime\n",
    "from pathlib import Path\n",
    "from tensorflow.keras import layers, models\n",
    "import collections\n",
    "import random\n",
    "import os\n",
    "import sys\n",
    "sys.path.append(\"../..\")\n",
    "\n",
    "import utils as ut"
   ]
  },
  {
   "cell_type": "code",
   "execution_count": 11,
   "id": "33967ea8",
   "metadata": {},
   "outputs": [],
   "source": [
    "# ============================================================================\n",
    "# EXPERIMENT CONFIGURATION\n",
    "# ============================================================================\n",
    "\n",
    "# Experiment metadata\n",
    "EXPERIMENT_NAME = \"experiment_1\"  # Change this for each experiment\n",
    "EXPERIMENT_DESCRIPTION = \"cleaned up training pipeline, as well as raised learning rate and lowered batch size\""
   ]
  },
  {
   "cell_type": "code",
   "execution_count": 12,
   "id": "86a4948d",
   "metadata": {},
   "outputs": [],
   "source": [
    "# Hyperparameters\n",
    "CONFIG = {\n",
    "    \"experiment_name\": EXPERIMENT_NAME,\n",
    "    \"description\": EXPERIMENT_DESCRIPTION,\n",
    "    \"model_params\": {\n",
    "        \"emb_dim\": 32,\n",
    "        \"rnn_units\": 32,\n",
    "        \"dropout_rate\": 0.1,  # Add regularization\n",
    "        \"l2_reg\": 0.001       # L2 regularization\n",
    "    },\n",
    "    \"training_params\": {\n",
    "        \"batch_size\": 64,\n",
    "        \"learning_rate\": 0.01,\n",
    "        \"epochs\": 20,\n",
    "        \"margin\": 0.3,\n",
    "        \"batch_tunes\": 32,\n",
    "        \"per_tune\": 2\n",
    "    },\n",
    "    \"data_params\": {\n",
    "        \"min_tune_settings\": 2,\n",
    "        \"max_sequence_length\": 512\n",
    "    }\n",
    "}"
   ]
  },
  {
   "cell_type": "code",
   "execution_count": 13,
   "id": "6a58a45c",
   "metadata": {},
   "outputs": [
    {
     "name": "stdout",
     "output_type": "stream",
     "text": [
      "✓ Created directory: ../experiment_1\n",
      "✓ Created directory: ../experiment_1/checkpoints\n",
      "✓ Created directory: ../experiment_1/logs\n",
      "✓ Created directory: ../experiment_1/plots\n",
      "✓ Created directory: ../saved_models\n",
      "✓ Created directory: ../tokenized_data\n"
     ]
    }
   ],
   "source": [
    "experiment_dir = ut.setup_experiment_directories(EXPERIMENT_NAME)"
   ]
  },
  {
   "cell_type": "code",
   "execution_count": 14,
   "id": "3f7c7595",
   "metadata": {},
   "outputs": [
    {
     "name": "stdout",
     "output_type": "stream",
     "text": [
      "✓ Saved config to: ../experiment_1/config.json\n"
     ]
    }
   ],
   "source": [
    "# Save experiment configuration\n",
    "config_path = experiment_dir / \"config.json\"\n",
    "with open(config_path, 'w') as f:\n",
    "    json.dump(CONFIG, f, indent=2)\n",
    "print(f\"✓ Saved config to: {config_path}\")"
   ]
  },
  {
   "cell_type": "code",
   "execution_count": 15,
   "id": "46d540a9",
   "metadata": {},
   "outputs": [],
   "source": [
    "# ============================================================================\n",
    "# MODEL ARCHITECTURE\n",
    "# ============================================================================\n",
    "\n",
    "def create_tune_embedding_model(vocab_size, config):\n",
    "    \"\"\"\n",
    "    Create tune embedding model with proper saving/loading support\n",
    "    \"\"\"\n",
    "    model_params = config[\"model_params\"]\n",
    "    \n",
    "    # Define inputs\n",
    "    notes_in = layers.Input(shape=(None,), dtype=\"int32\", name=\"note_ids\")\n",
    "    durs_in = layers.Input(shape=(None,), dtype=\"float32\", name=\"durations\")\n",
    "\n",
    "    # Note embeddings with regularization\n",
    "    note_emb = layers.Embedding(\n",
    "        input_dim=vocab_size,\n",
    "        output_dim=model_params[\"emb_dim\"],\n",
    "        mask_zero=True,\n",
    "        embeddings_regularizer=tf.keras.regularizers.l2(model_params[\"l2_reg\"]),\n",
    "        name=\"note_embedding\"\n",
    "    )(notes_in)\n",
    "\n",
    "    # Duration features - using Reshape instead of Lambda for better saving\n",
    "    dur_feat = layers.Reshape((-1, 1), name=\"duration_reshape\")(durs_in)\n",
    "    \n",
    "    # Duration embedding with regularization\n",
    "    dur_emb = layers.TimeDistributed(\n",
    "        layers.Dense(\n",
    "            model_params[\"emb_dim\"], \n",
    "            kernel_regularizer=tf.keras.regularizers.l2(model_params[\"l2_reg\"]),\n",
    "            name=\"duration_dense\"\n",
    "        ),\n",
    "        name=\"duration_embedding\"\n",
    "    )(dur_feat)\n",
    "\n",
    "    # Combine embeddings\n",
    "    x = layers.Add(name=\"combine_embeddings\")([note_emb, dur_emb])\n",
    "    \n",
    "    # Add dropout for regularization\n",
    "    x = layers.Dropout(model_params[\"dropout_rate\"], name=\"embedding_dropout\")(x)\n",
    "\n",
    "    # Bidirectional GRU with regularization\n",
    "    rnn_out = layers.Bidirectional(\n",
    "        layers.GRU(\n",
    "            model_params[\"rnn_units\"], \n",
    "            return_sequences=True,\n",
    "            dropout=model_params[\"dropout_rate\"],\n",
    "            recurrent_dropout=model_params[\"dropout_rate\"],\n",
    "            kernel_regularizer=tf.keras.regularizers.l2(model_params[\"l2_reg\"]),\n",
    "            name=\"gru\"\n",
    "        ),\n",
    "        name=\"bidirectional_gru\"\n",
    "    )(x)\n",
    "\n",
    "    # Global average pooling\n",
    "    tune_vec = layers.GlobalAveragePooling1D(name=\"global_pooling\")(rnn_out)\n",
    "    \n",
    "    # Additional dense layer before normalization (optional)\n",
    "    tune_vec = layers.Dense(\n",
    "        2 * model_params[\"rnn_units\"],\n",
    "        activation='relu',\n",
    "        kernel_regularizer=tf.keras.regularizers.l2(model_params[\"l2_reg\"]),\n",
    "        name=\"dense_before_norm\"\n",
    "    )(tune_vec)\n",
    "    \n",
    "    tune_vec = layers.Dropout(model_params[\"dropout_rate\"], name=\"final_dropout\")(tune_vec)\n",
    "\n",
    "    # L2 normalization using custom layer instead of Lambda\n",
    "    class L2Normalize(layers.Layer):\n",
    "        def __init__(self, **kwargs):\n",
    "            super(L2Normalize, self).__init__(**kwargs)\n",
    "        \n",
    "        def call(self, inputs):\n",
    "            return tf.math.l2_normalize(inputs, axis=1)\n",
    "        \n",
    "        def get_config(self):\n",
    "            return super(L2Normalize, self).get_config()\n",
    "\n",
    "    tune_emb = L2Normalize(name=\"l2_normalize\")(tune_vec)\n",
    "\n",
    "    # Build model\n",
    "    model = tf.keras.Model(\n",
    "        inputs=[notes_in, durs_in], \n",
    "        outputs=tune_emb, \n",
    "        name=f\"tune_embedder_{EXPERIMENT_NAME}\"\n",
    "    )\n",
    "    \n",
    "    return model"
   ]
  },
  {
   "cell_type": "code",
   "execution_count": 23,
   "id": "ad2b50af",
   "metadata": {},
   "outputs": [],
   "source": [
    "\n",
    "# ============================================================================\n",
    "# CALLBACKS AND MONITORING\n",
    "# ============================================================================\n",
    "\n",
    "def create_callbacks_with_validation(experiment_dir, config, use_validation=True):\n",
    "    \"\"\"Create callbacks, optionally including validation monitoring\"\"\"\n",
    "    \n",
    "    callbacks = []\n",
    "    \n",
    "    # Model checkpointing\n",
    "    if use_validation:\n",
    "        # Monitor validation loss if available\n",
    "        monitor_metric = 'val_loss'\n",
    "        mode = 'min'\n",
    "    else:\n",
    "        # Fall back to training loss\n",
    "        monitor_metric = 'loss'  \n",
    "        mode = 'min'\n",
    "    \n",
    "    # Best model checkpoint\n",
    "    best_checkpoint = tf.keras.callbacks.ModelCheckpoint(\n",
    "        filepath=experiment_dir / \"checkpoints\" / \"best_weights.weights.h5\",\n",
    "        save_weights_only=True,\n",
    "        save_best_only=True,\n",
    "        monitor=monitor_metric,\n",
    "        mode=mode,\n",
    "        verbose=1\n",
    "    )\n",
    "    callbacks.append(best_checkpoint)\n",
    "    \n",
    "    # Regular checkpoints\n",
    "    checkpoint_callback = tf.keras.callbacks.ModelCheckpoint(\n",
    "        filepath=experiment_dir / \"checkpoints\" / \"weights_epoch_{epoch:02d}.weights.h5\",\n",
    "        save_weights_only=True,\n",
    "        save_freq='epoch',\n",
    "        verbose=0\n",
    "    )\n",
    "    callbacks.append(checkpoint_callback)\n",
    "    \n",
    "    # CSV logger\n",
    "    csv_logger = tf.keras.callbacks.CSVLogger(\n",
    "        experiment_dir / \"logs\" / \"training_log.csv\",\n",
    "        append=True\n",
    "    )\n",
    "    callbacks.append(csv_logger)\n",
    "    \n",
    "    # Learning rate reduction\n",
    "    lr_reducer = tf.keras.callbacks.ReduceLROnPlateau(\n",
    "        monitor=monitor_metric,\n",
    "        factor=0.5,\n",
    "        patience=3,\n",
    "        min_lr=1e-6,\n",
    "        verbose=1\n",
    "    )\n",
    "    callbacks.append(lr_reducer)\n",
    "    \n",
    "    # Early stopping\n",
    "    early_stopping = tf.keras.callbacks.EarlyStopping(\n",
    "        monitor=monitor_metric,\n",
    "        patience=5,\n",
    "        restore_best_weights=True,\n",
    "        verbose=1\n",
    "    )\n",
    "    callbacks.append(early_stopping)\n",
    "\n",
    "    #similarity_callback = ut.TuneSimilarityCallback(val_df)\n",
    "    #callbacks.append(similarity_callback)\n",
    "    \n",
    "    return callbacks\n"
   ]
  },
  {
   "cell_type": "code",
   "execution_count": 24,
   "id": "16ef1136",
   "metadata": {},
   "outputs": [
    {
     "name": "stdout",
     "output_type": "stream",
     "text": [
      "Starting experiment_1\n",
      "==================================================\n",
      "📁 Loading training data...\n",
      "✓ Train: 35,415 samples from 15,418 tunes\n",
      "✓ Val:   7,509 samples from 3,304 tunes\n",
      "✓ Vocab: 64 unique notes\n",
      "✓ Data loaded\n",
      "✓ Model created\n",
      "✓ Model compiled\n"
     ]
    },
    {
     "data": {
      "text/html": [
       "<pre style=\"white-space:pre;overflow-x:auto;line-height:normal;font-family:Menlo,'DejaVu Sans Mono',consolas,'Courier New',monospace\"><span style=\"font-weight: bold\">Model: \"tune_embedder_experiment_1\"</span>\n",
       "</pre>\n"
      ],
      "text/plain": [
       "\u001b[1mModel: \"tune_embedder_experiment_1\"\u001b[0m\n"
      ]
     },
     "metadata": {},
     "output_type": "display_data"
    },
    {
     "data": {
      "text/html": [
       "<pre style=\"white-space:pre;overflow-x:auto;line-height:normal;font-family:Menlo,'DejaVu Sans Mono',consolas,'Courier New',monospace\">┏━━━━━━━━━━━━━━━━━━━━━┳━━━━━━━━━━━━━━━━━━━┳━━━━━━━━━━━━┳━━━━━━━━━━━━━━━━━━━┓\n",
       "┃<span style=\"font-weight: bold\"> Layer (type)        </span>┃<span style=\"font-weight: bold\"> Output Shape      </span>┃<span style=\"font-weight: bold\">    Param # </span>┃<span style=\"font-weight: bold\"> Connected to      </span>┃\n",
       "┡━━━━━━━━━━━━━━━━━━━━━╇━━━━━━━━━━━━━━━━━━━╇━━━━━━━━━━━━╇━━━━━━━━━━━━━━━━━━━┩\n",
       "│ durations           │ (<span style=\"color: #00d7ff; text-decoration-color: #00d7ff\">None</span>, <span style=\"color: #00d7ff; text-decoration-color: #00d7ff\">None</span>)      │          <span style=\"color: #00af00; text-decoration-color: #00af00\">0</span> │ -                 │\n",
       "│ (<span style=\"color: #0087ff; text-decoration-color: #0087ff\">InputLayer</span>)        │                   │            │                   │\n",
       "├─────────────────────┼───────────────────┼────────────┼───────────────────┤\n",
       "│ note_ids            │ (<span style=\"color: #00d7ff; text-decoration-color: #00d7ff\">None</span>, <span style=\"color: #00d7ff; text-decoration-color: #00d7ff\">None</span>)      │          <span style=\"color: #00af00; text-decoration-color: #00af00\">0</span> │ -                 │\n",
       "│ (<span style=\"color: #0087ff; text-decoration-color: #0087ff\">InputLayer</span>)        │                   │            │                   │\n",
       "├─────────────────────┼───────────────────┼────────────┼───────────────────┤\n",
       "│ duration_reshape    │ (<span style=\"color: #00d7ff; text-decoration-color: #00d7ff\">None</span>, <span style=\"color: #00d7ff; text-decoration-color: #00d7ff\">None</span>, <span style=\"color: #00af00; text-decoration-color: #00af00\">1</span>)   │          <span style=\"color: #00af00; text-decoration-color: #00af00\">0</span> │ durations[<span style=\"color: #00af00; text-decoration-color: #00af00\">0</span>][<span style=\"color: #00af00; text-decoration-color: #00af00\">0</span>]   │\n",
       "│ (<span style=\"color: #0087ff; text-decoration-color: #0087ff\">Reshape</span>)           │                   │            │                   │\n",
       "├─────────────────────┼───────────────────┼────────────┼───────────────────┤\n",
       "│ note_embedding      │ (<span style=\"color: #00d7ff; text-decoration-color: #00d7ff\">None</span>, <span style=\"color: #00d7ff; text-decoration-color: #00d7ff\">None</span>, <span style=\"color: #00af00; text-decoration-color: #00af00\">32</span>)  │      <span style=\"color: #00af00; text-decoration-color: #00af00\">2,112</span> │ note_ids[<span style=\"color: #00af00; text-decoration-color: #00af00\">0</span>][<span style=\"color: #00af00; text-decoration-color: #00af00\">0</span>]    │\n",
       "│ (<span style=\"color: #0087ff; text-decoration-color: #0087ff\">Embedding</span>)         │                   │            │                   │\n",
       "├─────────────────────┼───────────────────┼────────────┼───────────────────┤\n",
       "│ duration_embedding  │ (<span style=\"color: #00d7ff; text-decoration-color: #00d7ff\">None</span>, <span style=\"color: #00d7ff; text-decoration-color: #00d7ff\">None</span>, <span style=\"color: #00af00; text-decoration-color: #00af00\">32</span>)  │         <span style=\"color: #00af00; text-decoration-color: #00af00\">64</span> │ duration_reshape… │\n",
       "│ (<span style=\"color: #0087ff; text-decoration-color: #0087ff\">TimeDistributed</span>)   │                   │            │                   │\n",
       "├─────────────────────┼───────────────────┼────────────┼───────────────────┤\n",
       "│ combine_embeddings  │ (<span style=\"color: #00d7ff; text-decoration-color: #00d7ff\">None</span>, <span style=\"color: #00d7ff; text-decoration-color: #00d7ff\">None</span>, <span style=\"color: #00af00; text-decoration-color: #00af00\">32</span>)  │          <span style=\"color: #00af00; text-decoration-color: #00af00\">0</span> │ note_embedding[<span style=\"color: #00af00; text-decoration-color: #00af00\">0</span>… │\n",
       "│ (<span style=\"color: #0087ff; text-decoration-color: #0087ff\">Add</span>)               │                   │            │ duration_embeddi… │\n",
       "├─────────────────────┼───────────────────┼────────────┼───────────────────┤\n",
       "│ embedding_dropout   │ (<span style=\"color: #00d7ff; text-decoration-color: #00d7ff\">None</span>, <span style=\"color: #00d7ff; text-decoration-color: #00d7ff\">None</span>, <span style=\"color: #00af00; text-decoration-color: #00af00\">32</span>)  │          <span style=\"color: #00af00; text-decoration-color: #00af00\">0</span> │ combine_embeddin… │\n",
       "│ (<span style=\"color: #0087ff; text-decoration-color: #0087ff\">Dropout</span>)           │                   │            │                   │\n",
       "├─────────────────────┼───────────────────┼────────────┼───────────────────┤\n",
       "│ bidirectional_gru   │ (<span style=\"color: #00d7ff; text-decoration-color: #00d7ff\">None</span>, <span style=\"color: #00d7ff; text-decoration-color: #00d7ff\">None</span>, <span style=\"color: #00af00; text-decoration-color: #00af00\">64</span>)  │     <span style=\"color: #00af00; text-decoration-color: #00af00\">12,672</span> │ embedding_dropou… │\n",
       "│ (<span style=\"color: #0087ff; text-decoration-color: #0087ff\">Bidirectional</span>)     │                   │            │                   │\n",
       "├─────────────────────┼───────────────────┼────────────┼───────────────────┤\n",
       "│ global_pooling      │ (<span style=\"color: #00d7ff; text-decoration-color: #00d7ff\">None</span>, <span style=\"color: #00af00; text-decoration-color: #00af00\">64</span>)        │          <span style=\"color: #00af00; text-decoration-color: #00af00\">0</span> │ bidirectional_gr… │\n",
       "│ (<span style=\"color: #0087ff; text-decoration-color: #0087ff\">GlobalAveragePool…</span> │                   │            │                   │\n",
       "├─────────────────────┼───────────────────┼────────────┼───────────────────┤\n",
       "│ dense_before_norm   │ (<span style=\"color: #00d7ff; text-decoration-color: #00d7ff\">None</span>, <span style=\"color: #00af00; text-decoration-color: #00af00\">64</span>)        │      <span style=\"color: #00af00; text-decoration-color: #00af00\">4,160</span> │ global_pooling[<span style=\"color: #00af00; text-decoration-color: #00af00\">0</span>… │\n",
       "│ (<span style=\"color: #0087ff; text-decoration-color: #0087ff\">Dense</span>)             │                   │            │                   │\n",
       "├─────────────────────┼───────────────────┼────────────┼───────────────────┤\n",
       "│ final_dropout       │ (<span style=\"color: #00d7ff; text-decoration-color: #00d7ff\">None</span>, <span style=\"color: #00af00; text-decoration-color: #00af00\">64</span>)        │          <span style=\"color: #00af00; text-decoration-color: #00af00\">0</span> │ dense_before_nor… │\n",
       "│ (<span style=\"color: #0087ff; text-decoration-color: #0087ff\">Dropout</span>)           │                   │            │                   │\n",
       "├─────────────────────┼───────────────────┼────────────┼───────────────────┤\n",
       "│ l2_normalize        │ (<span style=\"color: #00d7ff; text-decoration-color: #00d7ff\">None</span>, <span style=\"color: #00af00; text-decoration-color: #00af00\">64</span>)        │          <span style=\"color: #00af00; text-decoration-color: #00af00\">0</span> │ final_dropout[<span style=\"color: #00af00; text-decoration-color: #00af00\">0</span>]… │\n",
       "│ (<span style=\"color: #0087ff; text-decoration-color: #0087ff\">L2Normalize</span>)       │                   │            │                   │\n",
       "└─────────────────────┴───────────────────┴────────────┴───────────────────┘\n",
       "</pre>\n"
      ],
      "text/plain": [
       "┏━━━━━━━━━━━━━━━━━━━━━┳━━━━━━━━━━━━━━━━━━━┳━━━━━━━━━━━━┳━━━━━━━━━━━━━━━━━━━┓\n",
       "┃\u001b[1m \u001b[0m\u001b[1mLayer (type)       \u001b[0m\u001b[1m \u001b[0m┃\u001b[1m \u001b[0m\u001b[1mOutput Shape     \u001b[0m\u001b[1m \u001b[0m┃\u001b[1m \u001b[0m\u001b[1m   Param #\u001b[0m\u001b[1m \u001b[0m┃\u001b[1m \u001b[0m\u001b[1mConnected to     \u001b[0m\u001b[1m \u001b[0m┃\n",
       "┡━━━━━━━━━━━━━━━━━━━━━╇━━━━━━━━━━━━━━━━━━━╇━━━━━━━━━━━━╇━━━━━━━━━━━━━━━━━━━┩\n",
       "│ durations           │ (\u001b[38;5;45mNone\u001b[0m, \u001b[38;5;45mNone\u001b[0m)      │          \u001b[38;5;34m0\u001b[0m │ -                 │\n",
       "│ (\u001b[38;5;33mInputLayer\u001b[0m)        │                   │            │                   │\n",
       "├─────────────────────┼───────────────────┼────────────┼───────────────────┤\n",
       "│ note_ids            │ (\u001b[38;5;45mNone\u001b[0m, \u001b[38;5;45mNone\u001b[0m)      │          \u001b[38;5;34m0\u001b[0m │ -                 │\n",
       "│ (\u001b[38;5;33mInputLayer\u001b[0m)        │                   │            │                   │\n",
       "├─────────────────────┼───────────────────┼────────────┼───────────────────┤\n",
       "│ duration_reshape    │ (\u001b[38;5;45mNone\u001b[0m, \u001b[38;5;45mNone\u001b[0m, \u001b[38;5;34m1\u001b[0m)   │          \u001b[38;5;34m0\u001b[0m │ durations[\u001b[38;5;34m0\u001b[0m][\u001b[38;5;34m0\u001b[0m]   │\n",
       "│ (\u001b[38;5;33mReshape\u001b[0m)           │                   │            │                   │\n",
       "├─────────────────────┼───────────────────┼────────────┼───────────────────┤\n",
       "│ note_embedding      │ (\u001b[38;5;45mNone\u001b[0m, \u001b[38;5;45mNone\u001b[0m, \u001b[38;5;34m32\u001b[0m)  │      \u001b[38;5;34m2,112\u001b[0m │ note_ids[\u001b[38;5;34m0\u001b[0m][\u001b[38;5;34m0\u001b[0m]    │\n",
       "│ (\u001b[38;5;33mEmbedding\u001b[0m)         │                   │            │                   │\n",
       "├─────────────────────┼───────────────────┼────────────┼───────────────────┤\n",
       "│ duration_embedding  │ (\u001b[38;5;45mNone\u001b[0m, \u001b[38;5;45mNone\u001b[0m, \u001b[38;5;34m32\u001b[0m)  │         \u001b[38;5;34m64\u001b[0m │ duration_reshape… │\n",
       "│ (\u001b[38;5;33mTimeDistributed\u001b[0m)   │                   │            │                   │\n",
       "├─────────────────────┼───────────────────┼────────────┼───────────────────┤\n",
       "│ combine_embeddings  │ (\u001b[38;5;45mNone\u001b[0m, \u001b[38;5;45mNone\u001b[0m, \u001b[38;5;34m32\u001b[0m)  │          \u001b[38;5;34m0\u001b[0m │ note_embedding[\u001b[38;5;34m0\u001b[0m… │\n",
       "│ (\u001b[38;5;33mAdd\u001b[0m)               │                   │            │ duration_embeddi… │\n",
       "├─────────────────────┼───────────────────┼────────────┼───────────────────┤\n",
       "│ embedding_dropout   │ (\u001b[38;5;45mNone\u001b[0m, \u001b[38;5;45mNone\u001b[0m, \u001b[38;5;34m32\u001b[0m)  │          \u001b[38;5;34m0\u001b[0m │ combine_embeddin… │\n",
       "│ (\u001b[38;5;33mDropout\u001b[0m)           │                   │            │                   │\n",
       "├─────────────────────┼───────────────────┼────────────┼───────────────────┤\n",
       "│ bidirectional_gru   │ (\u001b[38;5;45mNone\u001b[0m, \u001b[38;5;45mNone\u001b[0m, \u001b[38;5;34m64\u001b[0m)  │     \u001b[38;5;34m12,672\u001b[0m │ embedding_dropou… │\n",
       "│ (\u001b[38;5;33mBidirectional\u001b[0m)     │                   │            │                   │\n",
       "├─────────────────────┼───────────────────┼────────────┼───────────────────┤\n",
       "│ global_pooling      │ (\u001b[38;5;45mNone\u001b[0m, \u001b[38;5;34m64\u001b[0m)        │          \u001b[38;5;34m0\u001b[0m │ bidirectional_gr… │\n",
       "│ (\u001b[38;5;33mGlobalAveragePool…\u001b[0m │                   │            │                   │\n",
       "├─────────────────────┼───────────────────┼────────────┼───────────────────┤\n",
       "│ dense_before_norm   │ (\u001b[38;5;45mNone\u001b[0m, \u001b[38;5;34m64\u001b[0m)        │      \u001b[38;5;34m4,160\u001b[0m │ global_pooling[\u001b[38;5;34m0\u001b[0m… │\n",
       "│ (\u001b[38;5;33mDense\u001b[0m)             │                   │            │                   │\n",
       "├─────────────────────┼───────────────────┼────────────┼───────────────────┤\n",
       "│ final_dropout       │ (\u001b[38;5;45mNone\u001b[0m, \u001b[38;5;34m64\u001b[0m)        │          \u001b[38;5;34m0\u001b[0m │ dense_before_nor… │\n",
       "│ (\u001b[38;5;33mDropout\u001b[0m)           │                   │            │                   │\n",
       "├─────────────────────┼───────────────────┼────────────┼───────────────────┤\n",
       "│ l2_normalize        │ (\u001b[38;5;45mNone\u001b[0m, \u001b[38;5;34m64\u001b[0m)        │          \u001b[38;5;34m0\u001b[0m │ final_dropout[\u001b[38;5;34m0\u001b[0m]… │\n",
       "│ (\u001b[38;5;33mL2Normalize\u001b[0m)       │                   │            │                   │\n",
       "└─────────────────────┴───────────────────┴────────────┴───────────────────┘\n"
      ]
     },
     "metadata": {},
     "output_type": "display_data"
    },
    {
     "data": {
      "text/html": [
       "<pre style=\"white-space:pre;overflow-x:auto;line-height:normal;font-family:Menlo,'DejaVu Sans Mono',consolas,'Courier New',monospace\"><span style=\"font-weight: bold\"> Total params: </span><span style=\"color: #00af00; text-decoration-color: #00af00\">19,008</span> (74.25 KB)\n",
       "</pre>\n"
      ],
      "text/plain": [
       "\u001b[1m Total params: \u001b[0m\u001b[38;5;34m19,008\u001b[0m (74.25 KB)\n"
      ]
     },
     "metadata": {},
     "output_type": "display_data"
    },
    {
     "data": {
      "text/html": [
       "<pre style=\"white-space:pre;overflow-x:auto;line-height:normal;font-family:Menlo,'DejaVu Sans Mono',consolas,'Courier New',monospace\"><span style=\"font-weight: bold\"> Trainable params: </span><span style=\"color: #00af00; text-decoration-color: #00af00\">19,008</span> (74.25 KB)\n",
       "</pre>\n"
      ],
      "text/plain": [
       "\u001b[1m Trainable params: \u001b[0m\u001b[38;5;34m19,008\u001b[0m (74.25 KB)\n"
      ]
     },
     "metadata": {},
     "output_type": "display_data"
    },
    {
     "data": {
      "text/html": [
       "<pre style=\"white-space:pre;overflow-x:auto;line-height:normal;font-family:Menlo,'DejaVu Sans Mono',consolas,'Courier New',monospace\"><span style=\"font-weight: bold\"> Non-trainable params: </span><span style=\"color: #00af00; text-decoration-color: #00af00\">0</span> (0.00 B)\n",
       "</pre>\n"
      ],
      "text/plain": [
       "\u001b[1m Non-trainable params: \u001b[0m\u001b[38;5;34m0\u001b[0m (0.00 B)\n"
      ]
     },
     "metadata": {},
     "output_type": "display_data"
    },
    {
     "name": "stdout",
     "output_type": "stream",
     "text": [
      "✓ Training dataset created\n",
      "✓ Callbacks created\n",
      "Steps per epoch: 553\n"
     ]
    }
   ],
   "source": [
    "print(f\"Starting {EXPERIMENT_NAME}\")\n",
    "print(\"=\"*50)\n",
    "\n",
    "# Load data\n",
    "train_df, val_df, vocab_list, split_info = ut.load_training_data()\n",
    "print(\"✓ Data loaded\")\n",
    "vocab_size = len(vocab_list) + 2\n",
    "\n",
    "# Create model\n",
    "model = create_tune_embedding_model(vocab_size, CONFIG)\n",
    "print(\"✓ Model created\")\n",
    "\n",
    "# Compile model\n",
    "optimizer = tf.keras.optimizers.Adam(\n",
    "    learning_rate=CONFIG[\"training_params\"][\"learning_rate\"]\n",
    ")\n",
    "\n",
    "model.compile(\n",
    "    optimizer=optimizer,\n",
    "    loss=ut.batch_hard_triplet_loss(margin=CONFIG[\"training_params\"][\"margin\"])\n",
    ")\n",
    "\n",
    "print(\"✓ Model compiled\")\n",
    "model.summary()\n",
    "\n",
    "# transform into datasets\n",
    "train_ds = ut.make_balanced_ds(train_df, CONFIG[\"training_params\"][\"batch_tunes\"], CONFIG[\"training_params\"][\"per_tune\"])\n",
    "val_ds = ut.make_balanced_ds(val_df, CONFIG[\"training_params\"][\"batch_tunes\"], CONFIG[\"training_params\"][\"per_tune\"])\n",
    "print(\"✓ Training dataset created\")\n",
    "\n",
    "# Create callbacks\n",
    "callbacks = create_callbacks_with_validation(\n",
    "    experiment_dir, CONFIG, use_validation=(val_ds is not None)\n",
    ")\n",
    "print(\"✓ Callbacks created\")\n",
    "steps_per_epoch = len(train_df) // (CONFIG[\"training_params\"][\"per_tune\"] * CONFIG[\"training_params\"][\"batch_tunes\"])\n",
    "validation_steps = len(val_df) // (CONFIG[\"training_params\"][\"per_tune\"] * CONFIG[\"training_params\"][\"batch_tunes\"]) \n",
    "print(f\"Steps per epoch: {steps_per_epoch}\")\n",
    "\n"
   ]
  },
  {
   "cell_type": "code",
   "execution_count": 25,
   "id": "9f95de9d",
   "metadata": {},
   "outputs": [
    {
     "name": "stdout",
     "output_type": "stream",
     "text": [
      "Starting training...\n",
      "Epoch 1/20\n",
      "\u001b[1m553/553\u001b[0m \u001b[32m━━━━━━━━━━━━━━━━━━━━\u001b[0m\u001b[37m\u001b[0m \u001b[1m0s\u001b[0m 3s/step - loss: 0.4457\n",
      "Epoch 1: val_loss improved from inf to 0.30257, saving model to ../experiment_1/checkpoints/best_weights.weights.h5\n",
      "\u001b[1m553/553\u001b[0m \u001b[32m━━━━━━━━━━━━━━━━━━━━\u001b[0m\u001b[37m\u001b[0m \u001b[1m1588s\u001b[0m 3s/step - loss: 0.4456 - val_loss: 0.3026 - learning_rate: 0.0100\n",
      "Epoch 2/20\n",
      "\u001b[1m553/553\u001b[0m \u001b[32m━━━━━━━━━━━━━━━━━━━━\u001b[0m\u001b[37m\u001b[0m \u001b[1m0s\u001b[0m 3s/step - loss: 0.4082\n",
      "Epoch 2: val_loss improved from 0.30257 to 0.30053, saving model to ../experiment_1/checkpoints/best_weights.weights.h5\n",
      "\u001b[1m553/553\u001b[0m \u001b[32m━━━━━━━━━━━━━━━━━━━━\u001b[0m\u001b[37m\u001b[0m \u001b[1m1548s\u001b[0m 3s/step - loss: 0.4082 - val_loss: 0.3005 - learning_rate: 0.0100\n",
      "Epoch 3/20\n",
      "\u001b[1m553/553\u001b[0m \u001b[32m━━━━━━━━━━━━━━━━━━━━\u001b[0m\u001b[37m\u001b[0m \u001b[1m0s\u001b[0m 3s/step - loss: 0.4055\n",
      "Epoch 3: val_loss improved from 0.30053 to 0.30024, saving model to ../experiment_1/checkpoints/best_weights.weights.h5\n",
      "\u001b[1m553/553\u001b[0m \u001b[32m━━━━━━━━━━━━━━━━━━━━\u001b[0m\u001b[37m\u001b[0m \u001b[1m1623s\u001b[0m 3s/step - loss: 0.4055 - val_loss: 0.3002 - learning_rate: 0.0100\n",
      "Epoch 4/20\n",
      "\u001b[1m553/553\u001b[0m \u001b[32m━━━━━━━━━━━━━━━━━━━━\u001b[0m\u001b[37m\u001b[0m \u001b[1m0s\u001b[0m 3s/step - loss: 0.4059\n",
      "Epoch 4: val_loss did not improve from 0.30024\n",
      "\u001b[1m553/553\u001b[0m \u001b[32m━━━━━━━━━━━━━━━━━━━━\u001b[0m\u001b[37m\u001b[0m \u001b[1m1561s\u001b[0m 3s/step - loss: 0.4059 - val_loss: 0.3006 - learning_rate: 0.0100\n",
      "Epoch 5/20\n",
      "\u001b[1m553/553\u001b[0m \u001b[32m━━━━━━━━━━━━━━━━━━━━\u001b[0m\u001b[37m\u001b[0m \u001b[1m0s\u001b[0m 3s/step - loss: 0.4061\n",
      "Epoch 5: val_loss did not improve from 0.30024\n",
      "\u001b[1m553/553\u001b[0m \u001b[32m━━━━━━━━━━━━━━━━━━━━\u001b[0m\u001b[37m\u001b[0m \u001b[1m1537s\u001b[0m 3s/step - loss: 0.4061 - val_loss: 0.3003 - learning_rate: 0.0100\n",
      "Epoch 6/20\n",
      "\u001b[1m553/553\u001b[0m \u001b[32m━━━━━━━━━━━━━━━━━━━━\u001b[0m\u001b[37m\u001b[0m \u001b[1m0s\u001b[0m 3s/step - loss: 0.4056\n",
      "Epoch 6: val_loss improved from 0.30024 to 0.30019, saving model to ../experiment_1/checkpoints/best_weights.weights.h5\n",
      "\n",
      "Epoch 6: ReduceLROnPlateau reducing learning rate to 0.004999999888241291.\n",
      "\u001b[1m553/553\u001b[0m \u001b[32m━━━━━━━━━━━━━━━━━━━━\u001b[0m\u001b[37m\u001b[0m \u001b[1m1645s\u001b[0m 3s/step - loss: 0.4056 - val_loss: 0.3002 - learning_rate: 0.0100\n",
      "Epoch 7/20\n",
      "\u001b[1m553/553\u001b[0m \u001b[32m━━━━━━━━━━━━━━━━━━━━\u001b[0m\u001b[37m\u001b[0m \u001b[1m0s\u001b[0m 3s/step - loss: 0.4052\n",
      "Epoch 7: val_loss improved from 0.30019 to 0.30000, saving model to ../experiment_1/checkpoints/best_weights.weights.h5\n",
      "\u001b[1m553/553\u001b[0m \u001b[32m━━━━━━━━━━━━━━━━━━━━\u001b[0m\u001b[37m\u001b[0m \u001b[1m1587s\u001b[0m 3s/step - loss: 0.4052 - val_loss: 0.3000 - learning_rate: 0.0050\n",
      "Epoch 8/20\n",
      "\u001b[1m553/553\u001b[0m \u001b[32m━━━━━━━━━━━━━━━━━━━━\u001b[0m\u001b[37m\u001b[0m \u001b[1m0s\u001b[0m 3s/step - loss: 0.4054\n",
      "Epoch 8: val_loss did not improve from 0.30000\n",
      "\u001b[1m553/553\u001b[0m \u001b[32m━━━━━━━━━━━━━━━━━━━━\u001b[0m\u001b[37m\u001b[0m \u001b[1m1595s\u001b[0m 3s/step - loss: 0.4054 - val_loss: 0.3000 - learning_rate: 0.0050\n",
      "Epoch 9/20\n",
      "\u001b[1m553/553\u001b[0m \u001b[32m━━━━━━━━━━━━━━━━━━━━\u001b[0m\u001b[37m\u001b[0m \u001b[1m0s\u001b[0m 3s/step - loss: 0.4050\n",
      "Epoch 9: val_loss did not improve from 0.30000\n",
      "\u001b[1m553/553\u001b[0m \u001b[32m━━━━━━━━━━━━━━━━━━━━\u001b[0m\u001b[37m\u001b[0m \u001b[1m1533s\u001b[0m 3s/step - loss: 0.4050 - val_loss: 0.3000 - learning_rate: 0.0050\n",
      "Epoch 10/20\n",
      "\u001b[1m553/553\u001b[0m \u001b[32m━━━━━━━━━━━━━━━━━━━━\u001b[0m\u001b[37m\u001b[0m \u001b[1m0s\u001b[0m 3s/step - loss: 0.4051\n",
      "Epoch 10: val_loss did not improve from 0.30000\n",
      "\n",
      "Epoch 10: ReduceLROnPlateau reducing learning rate to 0.0024999999441206455.\n",
      "\u001b[1m553/553\u001b[0m \u001b[32m━━━━━━━━━━━━━━━━━━━━\u001b[0m\u001b[37m\u001b[0m \u001b[1m1667s\u001b[0m 3s/step - loss: 0.4051 - val_loss: 0.3008 - learning_rate: 0.0050\n",
      "Epoch 11/20\n",
      "\u001b[1m553/553\u001b[0m \u001b[32m━━━━━━━━━━━━━━━━━━━━\u001b[0m\u001b[37m\u001b[0m \u001b[1m0s\u001b[0m 3s/step - loss: 0.4047\n",
      "Epoch 11: val_loss did not improve from 0.30000\n",
      "\u001b[1m553/553\u001b[0m \u001b[32m━━━━━━━━━━━━━━━━━━━━\u001b[0m\u001b[37m\u001b[0m \u001b[1m1603s\u001b[0m 3s/step - loss: 0.4047 - val_loss: 0.3000 - learning_rate: 0.0025\n",
      "Epoch 12/20\n",
      "\u001b[1m553/553\u001b[0m \u001b[32m━━━━━━━━━━━━━━━━━━━━\u001b[0m\u001b[37m\u001b[0m \u001b[1m0s\u001b[0m 3s/step - loss: 0.4044\n",
      "Epoch 12: val_loss did not improve from 0.30000\n",
      "\u001b[1m553/553\u001b[0m \u001b[32m━━━━━━━━━━━━━━━━━━━━\u001b[0m\u001b[37m\u001b[0m \u001b[1m1631s\u001b[0m 3s/step - loss: 0.4044 - val_loss: 0.3000 - learning_rate: 0.0025\n",
      "Epoch 12: early stopping\n",
      "Restoring model weights from the end of the best epoch: 7.\n"
     ]
    }
   ],
   "source": [
    "# Train model\n",
    "print(\"Starting training...\")\n",
    "history = model.fit(\n",
    "    train_ds,\n",
    "    validation_data=val_ds,\n",
    "    steps_per_epoch=steps_per_epoch,\n",
    "    validation_steps=validation_steps,\n",
    "    epochs=CONFIG[\"training_params\"][\"epochs\"],\n",
    "    callbacks=callbacks\n",
    ")\n"
   ]
  },
  {
   "cell_type": "code",
   "execution_count": 31,
   "id": "2a262d0e",
   "metadata": {},
   "outputs": [],
   "source": [
    "def save_model_and_weights(model, experiment_dir, experiment_name):\n",
    "    \"\"\"Save model in multiple formats for reliability\"\"\"\n",
    "    \n",
    "    timestamp = datetime.now().strftime(\"%Y%m%d_%H%M%S\")\n",
    "    \n",
    "    # Save weights to experiment directory\n",
    "    weights_path = experiment_dir / \"checkpoints\" / f\"final_weights_{timestamp}.weights.h5\"\n",
    "    model.save_weights(weights_path)\n",
    "    print(f\"✓ Saved weights to: {weights_path}\")\n",
    "    \n",
    "    # Save weights to main saved_models directory\n",
    "    main_weights_path = Path(\"../saved_models\") / f\"{experiment_name}.weights.h5\"\n",
    "    model.save_weights(main_weights_path)\n",
    "    print(f\"✓ Saved weights to: {main_weights_path}\")\n",
    "    \n",
    "    # Save model architecture\n",
    "    architecture_path = experiment_dir / \"model_architecture.json\"\n",
    "    with open(architecture_path, 'w') as f:\n",
    "        f.write(model.to_json())\n",
    "    print(f\"✓ Saved architecture to: {architecture_path}\")\n",
    "    \n",
    "    # Try to save full model (might fail with Lambda layers)\n",
    "    try:\n",
    "        model_path = experiment_dir / \"checkpoints\" / f\"full_model_{timestamp}.keras\"\n",
    "        model.save(model_path)\n",
    "        print(f\"✓ Saved full model to: {model_path}\")\n",
    "    except Exception as e:\n",
    "        print(f\"⚠ Could not save full model: {e}\")\n",
    "    \n",
    "    return weights_path, main_weights_path"
   ]
  },
  {
   "cell_type": "code",
   "execution_count": 32,
   "id": "0969a4c9",
   "metadata": {},
   "outputs": [
    {
     "name": "stdout",
     "output_type": "stream",
     "text": [
      "✓ Saved weights to: ../experiment_1/checkpoints/final_weights_20250604_224116.weights.h5\n",
      "✓ Saved weights to: ../saved_models/experiment_1.weights.h5\n",
      "✓ Saved architecture to: ../experiment_1/model_architecture.json\n",
      "✓ Saved full model to: ../experiment_1/checkpoints/full_model_20250604_224116.keras\n"
     ]
    },
    {
     "data": {
      "text/plain": [
       "(PosixPath('../experiment_1/checkpoints/final_weights_20250604_224116.weights.h5'),\n",
       " PosixPath('../saved_models/experiment_1.weights.h5'))"
      ]
     },
     "execution_count": 32,
     "metadata": {},
     "output_type": "execute_result"
    }
   ],
   "source": [
    "# Save final model\n",
    "save_model_and_weights(model, experiment_dir, EXPERIMENT_NAME)"
   ]
  },
  {
   "cell_type": "code",
   "execution_count": 33,
   "id": "87199aa3",
   "metadata": {},
   "outputs": [
    {
     "name": "stdout",
     "output_type": "stream",
     "text": [
      "✓ Saved training history to: ../experiment_1/training_history.pkl\n",
      "✓ experiment_1 completed!\n"
     ]
    }
   ],
   "source": [
    "# Save training history\n",
    "history_path = experiment_dir / \"training_history.pkl\"\n",
    "with open(history_path, 'wb') as f:\n",
    "    pickle.dump(history.history, f)\n",
    "print(f\"✓ Saved training history to: {history_path}\")\n",
    "\n",
    "print(f\"✓ {EXPERIMENT_NAME} completed!\")"
   ]
  },
  {
   "cell_type": "code",
   "execution_count": 34,
   "id": "752fc6a3",
   "metadata": {},
   "outputs": [
    {
     "data": {
      "image/png": "[encoded data removed]",
      "text/plain": [
       "<Figure size 800x400 with 1 Axes>"
      ]
     },
     "metadata": {},
     "output_type": "display_data"
    }
   ],
   "source": [
    "import matplotlib.pyplot as plt\n",
    "\n",
    "# history is the History object returned by model.fit(...)\n",
    "train_loss = history.history['loss']\n",
    "val_loss   = history.history.get('val_loss', None)\n",
    "epochs     = range(1, len(train_loss) + 1)\n",
    "\n",
    "plt.figure(figsize=(8,4))\n",
    "plt.plot(epochs, train_loss,  label='Train Loss')\n",
    "if val_loss is not None:\n",
    "    plt.plot(epochs, val_loss,  label='Val Loss')\n",
    "plt.xlabel('Epoch')\n",
    "plt.ylabel('Loss')\n",
    "plt.title('Training & Validation Loss')\n",
    "plt.legend()\n",
    "plt.grid(True)\n",
    "plt.show()"
   ]
  },
  {
   "cell_type": "code",
   "execution_count": null,
   "id": "5053303e",
   "metadata": {},
   "outputs": [],
   "source": []
  }
 ],
 "metadata": {
  "kernelspec": {
   "display_name": "tf-gpu",
   "language": "python",
   "name": "python3"
  },
  "language_info": {
   "codemirror_mode": {
    "name": "ipython",
    "version": 3
   },
   "file_extension": ".py",
   "mimetype": "text/x-python",
   "name": "python",
   "nbconvert_exporter": "python",
   "pygments_lexer": "ipython3",
   "version": "3.10.16"
  }
 },
 "nbformat": 4,
 "nbformat_minor": 5
}
